{
 "cells": [
  {
   "cell_type": "markdown",
   "id": "e19a9c7d",
   "metadata": {},
   "source": [
    "## Imports"
   ]
  },
  {
   "cell_type": "code",
   "execution_count": 1,
   "id": "20678a9f",
   "metadata": {},
   "outputs": [],
   "source": [
    "import pandas as pd\n",
    "import numpy as np\n",
    "import torch\n",
    "from transformers import DistilBertTokenizer, DistilBertModel\n",
    "import re\n",
    "import pickle\n",
    "import matplotlib.pyplot as plt\n",
    "from sklearn.decomposition import PCA\n",
    "import seaborn as sns"
   ]
  },
  {
   "cell_type": "code",
   "execution_count": 2,
   "id": "cbfb24eb",
   "metadata": {},
   "outputs": [
    {
     "name": "stdout",
     "output_type": "stream",
     "text": [
      "vin             object\n",
      "back_legroom    object\n",
      "bed             object\n",
      "bed_height      object\n",
      "bed_length      object\n",
      "dtype: object\n"
     ]
    }
   ],
   "source": [
    "text_df = pd.read_csv(\n",
    "    \"/home/tclark/Data Science/multimodal-insurance-project/data/used_cars/used_cars_data.csv\",\n",
    "    on_bad_lines=\"skip\",   # ignore corrupted rows\n",
    "    low_memory=False,      # allow full-memory type inference\n",
    "    engine=\"c\"             # default; supports this combo\n",
    ")\n",
    "\n",
    "text_df.head()\n",
    "text_df.shape\n",
    "print(text_df.dtypes.head())"
   ]
  },
  {
   "cell_type": "code",
   "execution_count": 4,
   "id": "1a803756",
   "metadata": {},
   "outputs": [
    {
     "name": "stdout",
     "output_type": "stream",
     "text": [
      "(3000040, 66)\n",
      "                 vin back_legroom  bed bed_height bed_length        body_type  \\\n",
      "0  ZACNJABB5KPJ92081      35.1 in  NaN        NaN        NaN  SUV / Crossover   \n",
      "1  SALCJ2FX1LH858117      38.1 in  NaN        NaN        NaN  SUV / Crossover   \n",
      "2  JF1VA2M67G9829723      35.4 in  NaN        NaN        NaN            Sedan   \n",
      "3  SALRR2RV0L2433391      37.6 in  NaN        NaN        NaN  SUV / Crossover   \n",
      "4  SALCJ2FXXLH862327      38.1 in  NaN        NaN        NaN  SUV / Crossover   \n",
      "\n",
      "  cabin      city  city_fuel_economy  combine_fuel_economy  ...  transmission  \\\n",
      "0   NaN   Bayamon                NaN                   NaN  ...             A   \n",
      "1   NaN  San Juan                NaN                   NaN  ...             A   \n",
      "2   NaN  Guaynabo               17.0                   NaN  ...             M   \n",
      "3   NaN  San Juan                NaN                   NaN  ...             A   \n",
      "4   NaN  San Juan                NaN                   NaN  ...             A   \n",
      "\n",
      "          transmission_display  trimId     trim_name  vehicle_damage_category  \\\n",
      "0  9-Speed Automatic Overdrive  t83804  Latitude FWD                      NaN   \n",
      "1  9-Speed Automatic Overdrive  t86759         S AWD                      NaN   \n",
      "2               6-Speed Manual  t58994          Base                      NaN   \n",
      "3  8-Speed Automatic Overdrive  t86074    V6 HSE AWD                      NaN   \n",
      "4  9-Speed Automatic Overdrive  t86759         S AWD                      NaN   \n",
      "\n",
      "  wheel_system wheel_system_display wheelbase    width  year  \n",
      "0          FWD    Front-Wheel Drive  101.2 in  79.6 in  2019  \n",
      "1          AWD      All-Wheel Drive  107.9 in  85.6 in  2020  \n",
      "2          AWD      All-Wheel Drive  104.3 in  78.9 in  2016  \n",
      "3          AWD      All-Wheel Drive    115 in  87.4 in  2020  \n",
      "4          AWD      All-Wheel Drive  107.9 in  85.6 in  2020  \n",
      "\n",
      "[5 rows x 66 columns]\n"
     ]
    }
   ],
   "source": [
    "print(text_df.shape)\n",
    "print(text_df.head())"
   ]
  },
  {
   "cell_type": "code",
   "execution_count": null,
   "id": "d896f23b",
   "metadata": {},
   "outputs": [
    {
     "name": "stdout",
     "output_type": "stream",
     "text": [
      "vin                           0\n",
      "back_legroom             159269\n",
      "bed                     2980472\n",
      "bed_height              2570942\n",
      "bed_length              2570942\n",
      "                         ...   \n",
      "wheel_system             146732\n",
      "wheel_system_display     146732\n",
      "wheelbase                159269\n",
      "width                    159269\n",
      "year                          0\n",
      "Length: 66, dtype: int64\n",
      "40\n",
      "True\n"
     ]
    }
   ],
   "source": [
    "# check for missing values\n",
    "print(text_df.isna().sum())\n"
   ]
  },
  {
   "cell_type": "code",
   "execution_count": 6,
   "id": "7ce6957f",
   "metadata": {},
   "outputs": [
    {
     "name": "stdout",
     "output_type": "stream",
     "text": [
      "40\n"
     ]
    }
   ],
   "source": [
    "\n",
    "# check for duplicate rows\n",
    "print(text_df.duplicated().sum())\n"
   ]
  },
  {
   "cell_type": "code",
   "execution_count": null,
   "id": "a41b118b",
   "metadata": {},
   "outputs": [],
   "source": [
    "\n",
    "print(text_df.duplicated().any())"
   ]
  }
 ],
 "metadata": {
  "kernelspec": {
   "display_name": "Mulitmodal_venv",
   "language": "python",
   "name": "python3"
  },
  "language_info": {
   "codemirror_mode": {
    "name": "ipython",
    "version": 3
   },
   "file_extension": ".py",
   "mimetype": "text/x-python",
   "name": "python",
   "nbconvert_exporter": "python",
   "pygments_lexer": "ipython3",
   "version": "3.12.2"
  }
 },
 "nbformat": 4,
 "nbformat_minor": 5
}
