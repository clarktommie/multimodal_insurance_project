{
 "cells": [
  {
   "cell_type": "code",
   "execution_count": 53,
   "id": "8c693656",
   "metadata": {},
   "outputs": [
    {
     "name": "stdout",
     "output_type": "stream",
     "text": [
      "(100000, 66)\n"
     ]
    },
    {
     "data": {
      "application/vnd.microsoft.datawrangler.viewer.v0+json": {
       "columns": [
        {
         "name": "index",
         "rawType": "int64",
         "type": "integer"
        },
        {
         "name": "vin",
         "rawType": "object",
         "type": "string"
        },
        {
         "name": "back_legroom",
         "rawType": "object",
         "type": "string"
        },
        {
         "name": "bed",
         "rawType": "object",
         "type": "unknown"
        },
        {
         "name": "bed_height",
         "rawType": "object",
         "type": "unknown"
        },
        {
         "name": "bed_length",
         "rawType": "object",
         "type": "unknown"
        },
        {
         "name": "body_type",
         "rawType": "object",
         "type": "string"
        },
        {
         "name": "cabin",
         "rawType": "object",
         "type": "unknown"
        },
        {
         "name": "city",
         "rawType": "object",
         "type": "string"
        },
        {
         "name": "city_fuel_economy",
         "rawType": "float64",
         "type": "float"
        },
        {
         "name": "combine_fuel_economy",
         "rawType": "float64",
         "type": "float"
        },
        {
         "name": "daysonmarket",
         "rawType": "int64",
         "type": "integer"
        },
        {
         "name": "dealer_zip",
         "rawType": "int64",
         "type": "integer"
        },
        {
         "name": "description",
         "rawType": "object",
         "type": "unknown"
        },
        {
         "name": "engine_cylinders",
         "rawType": "object",
         "type": "string"
        },
        {
         "name": "engine_displacement",
         "rawType": "float64",
         "type": "float"
        },
        {
         "name": "engine_type",
         "rawType": "object",
         "type": "string"
        },
        {
         "name": "exterior_color",
         "rawType": "object",
         "type": "unknown"
        },
        {
         "name": "fleet",
         "rawType": "object",
         "type": "unknown"
        },
        {
         "name": "frame_damaged",
         "rawType": "object",
         "type": "unknown"
        },
        {
         "name": "franchise_dealer",
         "rawType": "bool",
         "type": "boolean"
        },
        {
         "name": "franchise_make",
         "rawType": "object",
         "type": "string"
        },
        {
         "name": "front_legroom",
         "rawType": "object",
         "type": "string"
        },
        {
         "name": "fuel_tank_volume",
         "rawType": "object",
         "type": "string"
        },
        {
         "name": "fuel_type",
         "rawType": "object",
         "type": "string"
        },
        {
         "name": "has_accidents",
         "rawType": "object",
         "type": "unknown"
        },
        {
         "name": "height",
         "rawType": "object",
         "type": "string"
        },
        {
         "name": "highway_fuel_economy",
         "rawType": "float64",
         "type": "float"
        },
        {
         "name": "horsepower",
         "rawType": "float64",
         "type": "float"
        },
        {
         "name": "interior_color",
         "rawType": "object",
         "type": "unknown"
        },
        {
         "name": "isCab",
         "rawType": "object",
         "type": "unknown"
        },
        {
         "name": "is_certified",
         "rawType": "float64",
         "type": "float"
        },
        {
         "name": "is_cpo",
         "rawType": "object",
         "type": "unknown"
        },
        {
         "name": "is_new",
         "rawType": "bool",
         "type": "boolean"
        },
        {
         "name": "is_oemcpo",
         "rawType": "object",
         "type": "unknown"
        },
        {
         "name": "latitude",
         "rawType": "float64",
         "type": "float"
        },
        {
         "name": "length",
         "rawType": "object",
         "type": "string"
        },
        {
         "name": "listed_date",
         "rawType": "object",
         "type": "string"
        },
        {
         "name": "listing_color",
         "rawType": "object",
         "type": "string"
        },
        {
         "name": "listing_id",
         "rawType": "int64",
         "type": "integer"
        },
        {
         "name": "longitude",
         "rawType": "float64",
         "type": "float"
        },
        {
         "name": "main_picture_url",
         "rawType": "object",
         "type": "unknown"
        },
        {
         "name": "major_options",
         "rawType": "object",
         "type": "unknown"
        },
        {
         "name": "make_name",
         "rawType": "object",
         "type": "string"
        },
        {
         "name": "maximum_seating",
         "rawType": "object",
         "type": "string"
        },
        {
         "name": "mileage",
         "rawType": "float64",
         "type": "float"
        },
        {
         "name": "model_name",
         "rawType": "object",
         "type": "string"
        },
        {
         "name": "owner_count",
         "rawType": "float64",
         "type": "float"
        },
        {
         "name": "power",
         "rawType": "object",
         "type": "string"
        },
        {
         "name": "price",
         "rawType": "float64",
         "type": "float"
        },
        {
         "name": "salvage",
         "rawType": "object",
         "type": "unknown"
        },
        {
         "name": "savings_amount",
         "rawType": "int64",
         "type": "integer"
        },
        {
         "name": "seller_rating",
         "rawType": "float64",
         "type": "float"
        },
        {
         "name": "sp_id",
         "rawType": "int64",
         "type": "integer"
        },
        {
         "name": "sp_name",
         "rawType": "object",
         "type": "string"
        },
        {
         "name": "theft_title",
         "rawType": "object",
         "type": "unknown"
        },
        {
         "name": "torque",
         "rawType": "object",
         "type": "string"
        },
        {
         "name": "transmission",
         "rawType": "object",
         "type": "string"
        },
        {
         "name": "transmission_display",
         "rawType": "object",
         "type": "string"
        },
        {
         "name": "trimId",
         "rawType": "object",
         "type": "string"
        },
        {
         "name": "trim_name",
         "rawType": "object",
         "type": "string"
        },
        {
         "name": "vehicle_damage_category",
         "rawType": "float64",
         "type": "float"
        },
        {
         "name": "wheel_system",
         "rawType": "object",
         "type": "string"
        },
        {
         "name": "wheel_system_display",
         "rawType": "object",
         "type": "string"
        },
        {
         "name": "wheelbase",
         "rawType": "object",
         "type": "string"
        },
        {
         "name": "width",
         "rawType": "object",
         "type": "string"
        },
        {
         "name": "year",
         "rawType": "int64",
         "type": "integer"
        }
       ],
       "ref": "5f9a9454-8b51-41a3-8952-08d1868dd67d",
       "rows": [
        [
         "0",
         "ZACNJABB5KPJ92081",
         "35.1 in",
         null,
         null,
         null,
         "SUV / Crossover",
         null,
         "Bayamon",
         null,
         null,
         "522",
         "960",
         "[!@@Additional Info@@!]Engine: 2.4L I4 ZERO EVAP M-AIR,Full Size Temporary Use Spare Tire,Manufacturer's Statement of Origin,Quick Order Package 2XB,Tires: 215/60R17 BSW AS Touring,Transmission: 9-Speed 948TE Automatic,Wheels: 17' x 7.0' Aluminum",
         "I4",
         "1300.0",
         "I4",
         "Solar Yellow",
         null,
         null,
         "True",
         "Jeep",
         "41.2 in",
         "12.7 gal",
         "Gasoline",
         null,
         "66.5 in",
         null,
         "177.0",
         "Black",
         null,
         null,
         null,
         "True",
         null,
         "18.3988",
         "166.6 in",
         "2019-04-06",
         "YELLOW",
         "237132766",
         "-66.1582",
         "https://static.cargurus.com/images/forsale/2020/05/18/18/53/2019_jeep_renegade-pic-3296019950109819645-152x114.jpeg",
         "['Quick Order Package']",
         "Jeep",
         "5 seats",
         "7.0",
         "Renegade",
         null,
         "177 hp @ 5,750 RPM",
         "23141.0",
         null,
         "0",
         "2.8",
         "370599",
         "Flagship Chrysler",
         null,
         "200 lb-ft @ 1,750 RPM",
         "A",
         "9-Speed Automatic Overdrive",
         "t83804",
         "Latitude FWD",
         null,
         "FWD",
         "Front-Wheel Drive",
         "101.2 in",
         "79.6 in",
         "2019"
        ],
        [
         "1",
         "SALCJ2FX1LH858117",
         "38.1 in",
         null,
         null,
         null,
         "SUV / Crossover",
         null,
         "San Juan",
         null,
         null,
         "207",
         "922",
         "[!@@Additional Info@@!]Keyless Entry,Ebony Morzine Headliner,Chrome Wheel Protection Pack,Powered Tailgate,Loadspace Mat,Wheels: 18' Style 5075 Gloss Sparkle Silver,Cargo Carrier,High Speed Emergency Braking,Adaptive Cruise Control w/Stop & Go,Sunshade,12-Way Electric Front Seats,Rubber Mats,Drive Pack,Basic Rear Seat Convenience Pack,Premium Interior Protection,Blind Spot Assist,Cargo Net",
         "I4",
         "2000.0",
         "I4",
         "Narvik Black",
         null,
         null,
         "True",
         "Land Rover",
         "39.1 in",
         "17.7 gal",
         "Gasoline",
         null,
         "68 in",
         null,
         "246.0",
         "Black (Ebony)",
         null,
         null,
         null,
         "True",
         null,
         "18.4439",
         "181 in",
         "2020-02-15",
         "BLACK",
         "265946296",
         "-66.0785",
         "https://static.cargurus.com/images/forsale/2020/05/15/18/25/2020_land_rover_discovery_sport-pic-3854830367929838997-152x114.jpeg",
         "['Adaptive Cruise Control']",
         "Land Rover",
         "7 seats",
         "8.0",
         "Discovery Sport",
         null,
         "246 hp @ 5,500 RPM",
         "46500.0",
         null,
         "0",
         "3.0",
         "389227",
         "Land Rover San Juan",
         null,
         "269 lb-ft @ 1,400 RPM",
         "A",
         "9-Speed Automatic Overdrive",
         "t86759",
         "S AWD",
         null,
         "AWD",
         "All-Wheel Drive",
         "107.9 in",
         "85.6 in",
         "2020"
        ],
        [
         "2",
         "JF1VA2M67G9829723",
         "35.4 in",
         null,
         null,
         null,
         "Sedan",
         null,
         "Guaynabo",
         "17.0",
         null,
         "1233",
         "969",
         null,
         "H4",
         "2500.0",
         "H4",
         null,
         "False",
         "False",
         "True",
         "FIAT",
         "43.3 in",
         "15.9 gal",
         "Gasoline",
         "False",
         "58.1 in",
         "23.0",
         "305.0",
         null,
         "False",
         null,
         null,
         "False",
         null,
         "18.3467",
         "180.9 in",
         "2017-04-25",
         "UNKNOWN",
         "173473508",
         "-66.1098",
         null,
         "['Alloy Wheels', 'Bluetooth', 'Backup Camera', 'Heated Seats']",
         "Subaru",
         "5 seats",
         null,
         "WRX STI",
         "3.0",
         "305 hp @ 6,000 RPM",
         "46995.0",
         "False",
         "0",
         null,
         "370467",
         "FIAT de San Juan",
         "False",
         "290 lb-ft @ 4,000 RPM",
         "M",
         "6-Speed Manual",
         "t58994",
         "Base",
         null,
         "AWD",
         "All-Wheel Drive",
         "104.3 in",
         "78.9 in",
         "2016"
        ],
        [
         "3",
         "SALRR2RV0L2433391",
         "37.6 in",
         null,
         null,
         null,
         "SUV / Crossover",
         null,
         "San Juan",
         null,
         null,
         "196",
         "922",
         "[!@@Additional Info@@!]Fog Lights,7 Seat Package,Wheels: 21' 9 Spoke,GVWR: 6,900 lbs,Full Length Black Roof Rails,Twin-Speed Transfer Case,Cargo Carrier,Car Care Kit,Rubber Mat Set,Electronic Air Suspension,Prem Interior Protection/Storage Pack,Ebony Headlining,Wheel Protection Pack Chrome Locks,Cargo Mat,Tire Pressure Gauge,Windshield Sunshade,Basic Rear Seat Convenience Pack,Chrome Wheel Locks,Front Center Console Cooler Compartment,Tires: 21',Cabin Air Ionisation",
         "V6",
         "3000.0",
         "V6",
         "Eiger Gray",
         null,
         null,
         "True",
         "Land Rover",
         "39 in",
         "23.5 gal",
         "Gasoline",
         null,
         "73 in",
         null,
         "340.0",
         "Gray (Ebony/Ebony/Ebony)",
         null,
         null,
         null,
         "True",
         null,
         "18.4439",
         "195.1 in",
         "2020-02-26",
         "GRAY",
         "266911050",
         "-66.0785",
         "https://static.cargurus.com/images/forsale/2020/05/18/20/55/2020_land_rover_discovery-pic-3571104253551947583-152x114.jpeg",
         null,
         "Land Rover",
         "7 seats",
         "11.0",
         "Discovery",
         null,
         "340 hp @ 6,500 RPM",
         "67430.0",
         null,
         "0",
         "3.0",
         "389227",
         "Land Rover San Juan",
         null,
         "332 lb-ft @ 3,500 RPM",
         "A",
         "8-Speed Automatic Overdrive",
         "t86074",
         "V6 HSE AWD",
         null,
         "AWD",
         "All-Wheel Drive",
         "115 in",
         "87.4 in",
         "2020"
        ],
        [
         "4",
         "SALCJ2FXXLH862327",
         "38.1 in",
         null,
         null,
         null,
         "SUV / Crossover",
         null,
         "San Juan",
         null,
         null,
         "137",
         "922",
         "[!@@Additional Info@@!]Keyless Entry,Ebony Morzine Headliner,Chrome Wheel Protection Pack,ClearSight Rearview Mirror,Loadspace Mat,Wheels: 18' Style 5075 Gloss Sparkle Silver,Head-Up Display,Cargo Carrier,High Speed Emergency Braking,Adaptive Cruise Control w/Stop & Go,Sunshade,Technology Pack,12-Way Electric Front Seats,Rubber Mats,Drive Pack,Basic Rear Seat Convenience Pack,Fixed Panoramic Roof,Premium Interior Protection,Interactive Driver Display,Blind Spot Assist,Cargo Net,Wireless Device Charging",
         "I4",
         "2000.0",
         "I4",
         "Narvik Black",
         null,
         null,
         "True",
         "Land Rover",
         "39.1 in",
         "17.7 gal",
         "Gasoline",
         null,
         "68 in",
         null,
         "246.0",
         "Black (Ebony)",
         null,
         null,
         null,
         "True",
         null,
         "18.4439",
         "181 in",
         "2020-04-25",
         "BLACK",
         "270957414",
         "-66.0785",
         "https://static.cargurus.com/images/forsale/2020/07/19/01/27/2020_land_rover_discovery_sport-pic-2859722089486346228-152x114.jpeg",
         "['Adaptive Cruise Control']",
         "Land Rover",
         "7 seats",
         "7.0",
         "Discovery Sport",
         null,
         "246 hp @ 5,500 RPM",
         "48880.0",
         null,
         "0",
         "3.0",
         "389227",
         "Land Rover San Juan",
         null,
         "269 lb-ft @ 1,400 RPM",
         "A",
         "9-Speed Automatic Overdrive",
         "t86759",
         "S AWD",
         null,
         "AWD",
         "All-Wheel Drive",
         "107.9 in",
         "85.6 in",
         "2020"
        ]
       ],
       "shape": {
        "columns": 66,
        "rows": 5
       }
      },
      "text/html": [
       "<div>\n",
       "<style scoped>\n",
       "    .dataframe tbody tr th:only-of-type {\n",
       "        vertical-align: middle;\n",
       "    }\n",
       "\n",
       "    .dataframe tbody tr th {\n",
       "        vertical-align: top;\n",
       "    }\n",
       "\n",
       "    .dataframe thead th {\n",
       "        text-align: right;\n",
       "    }\n",
       "</style>\n",
       "<table border=\"1\" class=\"dataframe\">\n",
       "  <thead>\n",
       "    <tr style=\"text-align: right;\">\n",
       "      <th></th>\n",
       "      <th>vin</th>\n",
       "      <th>back_legroom</th>\n",
       "      <th>bed</th>\n",
       "      <th>bed_height</th>\n",
       "      <th>bed_length</th>\n",
       "      <th>body_type</th>\n",
       "      <th>cabin</th>\n",
       "      <th>city</th>\n",
       "      <th>city_fuel_economy</th>\n",
       "      <th>combine_fuel_economy</th>\n",
       "      <th>...</th>\n",
       "      <th>transmission</th>\n",
       "      <th>transmission_display</th>\n",
       "      <th>trimId</th>\n",
       "      <th>trim_name</th>\n",
       "      <th>vehicle_damage_category</th>\n",
       "      <th>wheel_system</th>\n",
       "      <th>wheel_system_display</th>\n",
       "      <th>wheelbase</th>\n",
       "      <th>width</th>\n",
       "      <th>year</th>\n",
       "    </tr>\n",
       "  </thead>\n",
       "  <tbody>\n",
       "    <tr>\n",
       "      <th>0</th>\n",
       "      <td>ZACNJABB5KPJ92081</td>\n",
       "      <td>35.1 in</td>\n",
       "      <td>NaN</td>\n",
       "      <td>NaN</td>\n",
       "      <td>NaN</td>\n",
       "      <td>SUV / Crossover</td>\n",
       "      <td>NaN</td>\n",
       "      <td>Bayamon</td>\n",
       "      <td>NaN</td>\n",
       "      <td>NaN</td>\n",
       "      <td>...</td>\n",
       "      <td>A</td>\n",
       "      <td>9-Speed Automatic Overdrive</td>\n",
       "      <td>t83804</td>\n",
       "      <td>Latitude FWD</td>\n",
       "      <td>NaN</td>\n",
       "      <td>FWD</td>\n",
       "      <td>Front-Wheel Drive</td>\n",
       "      <td>101.2 in</td>\n",
       "      <td>79.6 in</td>\n",
       "      <td>2019</td>\n",
       "    </tr>\n",
       "    <tr>\n",
       "      <th>1</th>\n",
       "      <td>SALCJ2FX1LH858117</td>\n",
       "      <td>38.1 in</td>\n",
       "      <td>NaN</td>\n",
       "      <td>NaN</td>\n",
       "      <td>NaN</td>\n",
       "      <td>SUV / Crossover</td>\n",
       "      <td>NaN</td>\n",
       "      <td>San Juan</td>\n",
       "      <td>NaN</td>\n",
       "      <td>NaN</td>\n",
       "      <td>...</td>\n",
       "      <td>A</td>\n",
       "      <td>9-Speed Automatic Overdrive</td>\n",
       "      <td>t86759</td>\n",
       "      <td>S AWD</td>\n",
       "      <td>NaN</td>\n",
       "      <td>AWD</td>\n",
       "      <td>All-Wheel Drive</td>\n",
       "      <td>107.9 in</td>\n",
       "      <td>85.6 in</td>\n",
       "      <td>2020</td>\n",
       "    </tr>\n",
       "    <tr>\n",
       "      <th>2</th>\n",
       "      <td>JF1VA2M67G9829723</td>\n",
       "      <td>35.4 in</td>\n",
       "      <td>NaN</td>\n",
       "      <td>NaN</td>\n",
       "      <td>NaN</td>\n",
       "      <td>Sedan</td>\n",
       "      <td>NaN</td>\n",
       "      <td>Guaynabo</td>\n",
       "      <td>17.0</td>\n",
       "      <td>NaN</td>\n",
       "      <td>...</td>\n",
       "      <td>M</td>\n",
       "      <td>6-Speed Manual</td>\n",
       "      <td>t58994</td>\n",
       "      <td>Base</td>\n",
       "      <td>NaN</td>\n",
       "      <td>AWD</td>\n",
       "      <td>All-Wheel Drive</td>\n",
       "      <td>104.3 in</td>\n",
       "      <td>78.9 in</td>\n",
       "      <td>2016</td>\n",
       "    </tr>\n",
       "    <tr>\n",
       "      <th>3</th>\n",
       "      <td>SALRR2RV0L2433391</td>\n",
       "      <td>37.6 in</td>\n",
       "      <td>NaN</td>\n",
       "      <td>NaN</td>\n",
       "      <td>NaN</td>\n",
       "      <td>SUV / Crossover</td>\n",
       "      <td>NaN</td>\n",
       "      <td>San Juan</td>\n",
       "      <td>NaN</td>\n",
       "      <td>NaN</td>\n",
       "      <td>...</td>\n",
       "      <td>A</td>\n",
       "      <td>8-Speed Automatic Overdrive</td>\n",
       "      <td>t86074</td>\n",
       "      <td>V6 HSE AWD</td>\n",
       "      <td>NaN</td>\n",
       "      <td>AWD</td>\n",
       "      <td>All-Wheel Drive</td>\n",
       "      <td>115 in</td>\n",
       "      <td>87.4 in</td>\n",
       "      <td>2020</td>\n",
       "    </tr>\n",
       "    <tr>\n",
       "      <th>4</th>\n",
       "      <td>SALCJ2FXXLH862327</td>\n",
       "      <td>38.1 in</td>\n",
       "      <td>NaN</td>\n",
       "      <td>NaN</td>\n",
       "      <td>NaN</td>\n",
       "      <td>SUV / Crossover</td>\n",
       "      <td>NaN</td>\n",
       "      <td>San Juan</td>\n",
       "      <td>NaN</td>\n",
       "      <td>NaN</td>\n",
       "      <td>...</td>\n",
       "      <td>A</td>\n",
       "      <td>9-Speed Automatic Overdrive</td>\n",
       "      <td>t86759</td>\n",
       "      <td>S AWD</td>\n",
       "      <td>NaN</td>\n",
       "      <td>AWD</td>\n",
       "      <td>All-Wheel Drive</td>\n",
       "      <td>107.9 in</td>\n",
       "      <td>85.6 in</td>\n",
       "      <td>2020</td>\n",
       "    </tr>\n",
       "  </tbody>\n",
       "</table>\n",
       "<p>5 rows × 66 columns</p>\n",
       "</div>"
      ],
      "text/plain": [
       "                 vin back_legroom  bed bed_height bed_length        body_type  \\\n",
       "0  ZACNJABB5KPJ92081      35.1 in  NaN        NaN        NaN  SUV / Crossover   \n",
       "1  SALCJ2FX1LH858117      38.1 in  NaN        NaN        NaN  SUV / Crossover   \n",
       "2  JF1VA2M67G9829723      35.4 in  NaN        NaN        NaN            Sedan   \n",
       "3  SALRR2RV0L2433391      37.6 in  NaN        NaN        NaN  SUV / Crossover   \n",
       "4  SALCJ2FXXLH862327      38.1 in  NaN        NaN        NaN  SUV / Crossover   \n",
       "\n",
       "  cabin      city  city_fuel_economy  combine_fuel_economy  ...  transmission  \\\n",
       "0   NaN   Bayamon                NaN                   NaN  ...             A   \n",
       "1   NaN  San Juan                NaN                   NaN  ...             A   \n",
       "2   NaN  Guaynabo               17.0                   NaN  ...             M   \n",
       "3   NaN  San Juan                NaN                   NaN  ...             A   \n",
       "4   NaN  San Juan                NaN                   NaN  ...             A   \n",
       "\n",
       "          transmission_display  trimId     trim_name  vehicle_damage_category  \\\n",
       "0  9-Speed Automatic Overdrive  t83804  Latitude FWD                      NaN   \n",
       "1  9-Speed Automatic Overdrive  t86759         S AWD                      NaN   \n",
       "2               6-Speed Manual  t58994          Base                      NaN   \n",
       "3  8-Speed Automatic Overdrive  t86074    V6 HSE AWD                      NaN   \n",
       "4  9-Speed Automatic Overdrive  t86759         S AWD                      NaN   \n",
       "\n",
       "  wheel_system wheel_system_display wheelbase    width  year  \n",
       "0          FWD    Front-Wheel Drive  101.2 in  79.6 in  2019  \n",
       "1          AWD      All-Wheel Drive  107.9 in  85.6 in  2020  \n",
       "2          AWD      All-Wheel Drive  104.3 in  78.9 in  2016  \n",
       "3          AWD      All-Wheel Drive    115 in  87.4 in  2020  \n",
       "4          AWD      All-Wheel Drive  107.9 in  85.6 in  2020  \n",
       "\n",
       "[5 rows x 66 columns]"
      ]
     },
     "execution_count": 53,
     "metadata": {},
     "output_type": "execute_result"
    }
   ],
   "source": [
    "import pandas as pd\n",
    "\n",
    "# Load a subset first (faster exploration)\n",
    "used_cars_df = pd.read_csv(\"/home/tclark/Data Science/multimodal-insurance-project/data/used_cars/used_cars_data.csv\", nrows=100000)\n",
    "\n",
    "# Peek\n",
    "print(used_cars_df.shape)\n",
    "used_cars_df.head()\n"
   ]
  },
  {
   "cell_type": "code",
   "execution_count": 54,
   "id": "6939d025",
   "metadata": {},
   "outputs": [
    {
     "data": {
      "application/vnd.microsoft.datawrangler.viewer.v0+json": {
       "columns": [
        {
         "name": "index",
         "rawType": "object",
         "type": "string"
        },
        {
         "name": "0",
         "rawType": "int64",
         "type": "integer"
        }
       ],
       "ref": "0a8bfe28-da71-43be-b138-8e3c03ab450d",
       "rows": [
        [
         "is_certified",
         "100000"
        ],
        [
         "combine_fuel_economy",
         "100000"
        ],
        [
         "vehicle_damage_category",
         "100000"
        ],
        [
         "bed",
         "99393"
        ],
        [
         "cabin",
         "98333"
        ],
        [
         "is_oemcpo",
         "93890"
        ],
        [
         "bed_length",
         "91877"
        ],
        [
         "bed_height",
         "91877"
        ],
        [
         "is_cpo",
         "91270"
        ],
        [
         "owner_count",
         "45722"
        ],
        [
         "salvage",
         "43075"
        ],
        [
         "theft_title",
         "43075"
        ],
        [
         "frame_damaged",
         "43075"
        ],
        [
         "fleet",
         "43075"
        ],
        [
         "has_accidents",
         "43075"
        ],
        [
         "isCab",
         "43075"
        ],
        [
         "franchise_make",
         "25416"
        ],
        [
         "highway_fuel_economy",
         "16016"
        ],
        [
         "city_fuel_economy",
         "16016"
        ],
        [
         "torque",
         "15350"
        ]
       ],
       "shape": {
        "columns": 1,
        "rows": 20
       }
      },
      "text/plain": [
       "is_certified               100000\n",
       "combine_fuel_economy       100000\n",
       "vehicle_damage_category    100000\n",
       "bed                         99393\n",
       "cabin                       98333\n",
       "is_oemcpo                   93890\n",
       "bed_length                  91877\n",
       "bed_height                  91877\n",
       "is_cpo                      91270\n",
       "owner_count                 45722\n",
       "salvage                     43075\n",
       "theft_title                 43075\n",
       "frame_damaged               43075\n",
       "fleet                       43075\n",
       "has_accidents               43075\n",
       "isCab                       43075\n",
       "franchise_make              25416\n",
       "highway_fuel_economy        16016\n",
       "city_fuel_economy           16016\n",
       "torque                      15350\n",
       "dtype: int64"
      ]
     },
     "execution_count": 54,
     "metadata": {},
     "output_type": "execute_result"
    }
   ],
   "source": [
    "used_cars_df.isnull().sum().sort_values(ascending=False).head(20)\n"
   ]
  },
  {
   "cell_type": "code",
   "execution_count": 55,
   "id": "e1f28198",
   "metadata": {},
   "outputs": [
    {
     "data": {
      "text/plain": [
       "Index(['vin', 'back_legroom', 'bed', 'bed_height', 'bed_length', 'body_type',\n",
       "       'cabin', 'city', 'city_fuel_economy', 'combine_fuel_economy',\n",
       "       'daysonmarket', 'dealer_zip', 'description', 'engine_cylinders',\n",
       "       'engine_displacement', 'engine_type', 'exterior_color', 'fleet',\n",
       "       'frame_damaged', 'franchise_dealer', 'franchise_make', 'front_legroom',\n",
       "       'fuel_tank_volume', 'fuel_type', 'has_accidents', 'height',\n",
       "       'highway_fuel_economy', 'horsepower', 'interior_color', 'isCab',\n",
       "       'is_certified', 'is_cpo', 'is_new', 'is_oemcpo', 'latitude', 'length',\n",
       "       'listed_date', 'listing_color', 'listing_id', 'longitude',\n",
       "       'main_picture_url', 'major_options', 'make_name', 'maximum_seating',\n",
       "       'mileage', 'model_name', 'owner_count', 'power', 'price', 'salvage',\n",
       "       'savings_amount', 'seller_rating', 'sp_id', 'sp_name', 'theft_title',\n",
       "       'torque', 'transmission', 'transmission_display', 'trimId', 'trim_name',\n",
       "       'vehicle_damage_category', 'wheel_system', 'wheel_system_display',\n",
       "       'wheelbase', 'width', 'year'],\n",
       "      dtype='object')"
      ]
     },
     "execution_count": 55,
     "metadata": {},
     "output_type": "execute_result"
    }
   ],
   "source": [
    "used_cars_df.columns"
   ]
  },
  {
   "cell_type": "code",
   "execution_count": 56,
   "id": "7fe431ff",
   "metadata": {},
   "outputs": [
    {
     "data": {
      "text/plain": [
       "(100000, 45)"
      ]
     },
     "execution_count": 56,
     "metadata": {},
     "output_type": "execute_result"
    }
   ],
   "source": [
    "# remove columns: bed, cabin, bed_height, bed_length, franchise_make,\n",
    "# highway_fuel_economy, city_fuel_economy, torque\n",
    "\n",
    "used_cars_df.drop(columns=['bed', 'cabin', 'bed_height', 'bed_length', 'franchise_make',\n",
    "       'highway_fuel_economy', 'torque', 'main_picture_url', 'seller_rating', 'dealer_zip',\n",
    "       'combine_fuel_economy', 'fuel_tank_volume', 'city_fuel_economy', 'power', 'interior_color',\n",
    "       'major_options', 'engine_displacement', 'horsepower', 'height', 'back_legroom', 'front_legroom',\n",
    "         ], inplace=True)\n",
    "\n",
    "used_cars_df.shape\n"
   ]
  },
  {
   "cell_type": "code",
   "execution_count": 57,
   "id": "38d3017b",
   "metadata": {},
   "outputs": [
    {
     "data": {
      "application/vnd.microsoft.datawrangler.viewer.v0+json": {
       "columns": [
        {
         "name": "index",
         "rawType": "int64",
         "type": "integer"
        },
        {
         "name": "vin",
         "rawType": "object",
         "type": "string"
        },
        {
         "name": "body_type",
         "rawType": "object",
         "type": "string"
        },
        {
         "name": "city",
         "rawType": "object",
         "type": "string"
        },
        {
         "name": "daysonmarket",
         "rawType": "int64",
         "type": "integer"
        },
        {
         "name": "description",
         "rawType": "object",
         "type": "unknown"
        },
        {
         "name": "engine_cylinders",
         "rawType": "object",
         "type": "string"
        },
        {
         "name": "engine_type",
         "rawType": "object",
         "type": "string"
        },
        {
         "name": "exterior_color",
         "rawType": "object",
         "type": "unknown"
        },
        {
         "name": "fleet",
         "rawType": "object",
         "type": "unknown"
        },
        {
         "name": "frame_damaged",
         "rawType": "object",
         "type": "unknown"
        },
        {
         "name": "franchise_dealer",
         "rawType": "bool",
         "type": "boolean"
        },
        {
         "name": "fuel_type",
         "rawType": "object",
         "type": "string"
        },
        {
         "name": "has_accidents",
         "rawType": "object",
         "type": "unknown"
        },
        {
         "name": "isCab",
         "rawType": "object",
         "type": "unknown"
        },
        {
         "name": "is_certified",
         "rawType": "float64",
         "type": "float"
        },
        {
         "name": "is_cpo",
         "rawType": "object",
         "type": "unknown"
        },
        {
         "name": "is_new",
         "rawType": "bool",
         "type": "boolean"
        },
        {
         "name": "is_oemcpo",
         "rawType": "object",
         "type": "unknown"
        },
        {
         "name": "latitude",
         "rawType": "float64",
         "type": "float"
        },
        {
         "name": "length",
         "rawType": "object",
         "type": "string"
        },
        {
         "name": "listed_date",
         "rawType": "object",
         "type": "string"
        },
        {
         "name": "listing_color",
         "rawType": "object",
         "type": "string"
        },
        {
         "name": "listing_id",
         "rawType": "int64",
         "type": "integer"
        },
        {
         "name": "longitude",
         "rawType": "float64",
         "type": "float"
        },
        {
         "name": "make_name",
         "rawType": "object",
         "type": "string"
        },
        {
         "name": "maximum_seating",
         "rawType": "object",
         "type": "string"
        },
        {
         "name": "mileage",
         "rawType": "float64",
         "type": "float"
        },
        {
         "name": "model_name",
         "rawType": "object",
         "type": "string"
        },
        {
         "name": "owner_count",
         "rawType": "float64",
         "type": "float"
        },
        {
         "name": "price",
         "rawType": "float64",
         "type": "float"
        },
        {
         "name": "salvage",
         "rawType": "object",
         "type": "unknown"
        },
        {
         "name": "savings_amount",
         "rawType": "int64",
         "type": "integer"
        },
        {
         "name": "sp_id",
         "rawType": "int64",
         "type": "integer"
        },
        {
         "name": "sp_name",
         "rawType": "object",
         "type": "string"
        },
        {
         "name": "theft_title",
         "rawType": "object",
         "type": "unknown"
        },
        {
         "name": "transmission",
         "rawType": "object",
         "type": "string"
        },
        {
         "name": "transmission_display",
         "rawType": "object",
         "type": "string"
        },
        {
         "name": "trimId",
         "rawType": "object",
         "type": "string"
        },
        {
         "name": "trim_name",
         "rawType": "object",
         "type": "string"
        },
        {
         "name": "vehicle_damage_category",
         "rawType": "float64",
         "type": "float"
        },
        {
         "name": "wheel_system",
         "rawType": "object",
         "type": "string"
        },
        {
         "name": "wheel_system_display",
         "rawType": "object",
         "type": "string"
        },
        {
         "name": "wheelbase",
         "rawType": "object",
         "type": "string"
        },
        {
         "name": "width",
         "rawType": "object",
         "type": "string"
        },
        {
         "name": "year",
         "rawType": "int64",
         "type": "integer"
        }
       ],
       "ref": "fcc1aa33-2e50-4bd7-8293-2b3ca9e4c76e",
       "rows": [
        [
         "0",
         "ZACNJABB5KPJ92081",
         "SUV / Crossover",
         "Bayamon",
         "522",
         "[!@@Additional Info@@!]Engine: 2.4L I4 ZERO EVAP M-AIR,Full Size Temporary Use Spare Tire,Manufacturer's Statement of Origin,Quick Order Package 2XB,Tires: 215/60R17 BSW AS Touring,Transmission: 9-Speed 948TE Automatic,Wheels: 17' x 7.0' Aluminum",
         "I4",
         "I4",
         "Solar Yellow",
         null,
         null,
         "True",
         "Gasoline",
         null,
         null,
         null,
         null,
         "True",
         null,
         "18.3988",
         "166.6 in",
         "2019-04-06",
         "YELLOW",
         "237132766",
         "-66.1582",
         "Jeep",
         "5 seats",
         "7.0",
         "Renegade",
         null,
         "23141.0",
         null,
         "0",
         "370599",
         "Flagship Chrysler",
         null,
         "A",
         "9-Speed Automatic Overdrive",
         "t83804",
         "Latitude FWD",
         null,
         "FWD",
         "Front-Wheel Drive",
         "101.2 in",
         "79.6 in",
         "2019"
        ],
        [
         "1",
         "SALCJ2FX1LH858117",
         "SUV / Crossover",
         "San Juan",
         "207",
         "[!@@Additional Info@@!]Keyless Entry,Ebony Morzine Headliner,Chrome Wheel Protection Pack,Powered Tailgate,Loadspace Mat,Wheels: 18' Style 5075 Gloss Sparkle Silver,Cargo Carrier,High Speed Emergency Braking,Adaptive Cruise Control w/Stop & Go,Sunshade,12-Way Electric Front Seats,Rubber Mats,Drive Pack,Basic Rear Seat Convenience Pack,Premium Interior Protection,Blind Spot Assist,Cargo Net",
         "I4",
         "I4",
         "Narvik Black",
         null,
         null,
         "True",
         "Gasoline",
         null,
         null,
         null,
         null,
         "True",
         null,
         "18.4439",
         "181 in",
         "2020-02-15",
         "BLACK",
         "265946296",
         "-66.0785",
         "Land Rover",
         "7 seats",
         "8.0",
         "Discovery Sport",
         null,
         "46500.0",
         null,
         "0",
         "389227",
         "Land Rover San Juan",
         null,
         "A",
         "9-Speed Automatic Overdrive",
         "t86759",
         "S AWD",
         null,
         "AWD",
         "All-Wheel Drive",
         "107.9 in",
         "85.6 in",
         "2020"
        ],
        [
         "2",
         "JF1VA2M67G9829723",
         "Sedan",
         "Guaynabo",
         "1233",
         null,
         "H4",
         "H4",
         null,
         "False",
         "False",
         "True",
         "Gasoline",
         "False",
         "False",
         null,
         null,
         "False",
         null,
         "18.3467",
         "180.9 in",
         "2017-04-25",
         "UNKNOWN",
         "173473508",
         "-66.1098",
         "Subaru",
         "5 seats",
         null,
         "WRX STI",
         "3.0",
         "46995.0",
         "False",
         "0",
         "370467",
         "FIAT de San Juan",
         "False",
         "M",
         "6-Speed Manual",
         "t58994",
         "Base",
         null,
         "AWD",
         "All-Wheel Drive",
         "104.3 in",
         "78.9 in",
         "2016"
        ],
        [
         "3",
         "SALRR2RV0L2433391",
         "SUV / Crossover",
         "San Juan",
         "196",
         "[!@@Additional Info@@!]Fog Lights,7 Seat Package,Wheels: 21' 9 Spoke,GVWR: 6,900 lbs,Full Length Black Roof Rails,Twin-Speed Transfer Case,Cargo Carrier,Car Care Kit,Rubber Mat Set,Electronic Air Suspension,Prem Interior Protection/Storage Pack,Ebony Headlining,Wheel Protection Pack Chrome Locks,Cargo Mat,Tire Pressure Gauge,Windshield Sunshade,Basic Rear Seat Convenience Pack,Chrome Wheel Locks,Front Center Console Cooler Compartment,Tires: 21',Cabin Air Ionisation",
         "V6",
         "V6",
         "Eiger Gray",
         null,
         null,
         "True",
         "Gasoline",
         null,
         null,
         null,
         null,
         "True",
         null,
         "18.4439",
         "195.1 in",
         "2020-02-26",
         "GRAY",
         "266911050",
         "-66.0785",
         "Land Rover",
         "7 seats",
         "11.0",
         "Discovery",
         null,
         "67430.0",
         null,
         "0",
         "389227",
         "Land Rover San Juan",
         null,
         "A",
         "8-Speed Automatic Overdrive",
         "t86074",
         "V6 HSE AWD",
         null,
         "AWD",
         "All-Wheel Drive",
         "115 in",
         "87.4 in",
         "2020"
        ],
        [
         "4",
         "SALCJ2FXXLH862327",
         "SUV / Crossover",
         "San Juan",
         "137",
         "[!@@Additional Info@@!]Keyless Entry,Ebony Morzine Headliner,Chrome Wheel Protection Pack,ClearSight Rearview Mirror,Loadspace Mat,Wheels: 18' Style 5075 Gloss Sparkle Silver,Head-Up Display,Cargo Carrier,High Speed Emergency Braking,Adaptive Cruise Control w/Stop & Go,Sunshade,Technology Pack,12-Way Electric Front Seats,Rubber Mats,Drive Pack,Basic Rear Seat Convenience Pack,Fixed Panoramic Roof,Premium Interior Protection,Interactive Driver Display,Blind Spot Assist,Cargo Net,Wireless Device Charging",
         "I4",
         "I4",
         "Narvik Black",
         null,
         null,
         "True",
         "Gasoline",
         null,
         null,
         null,
         null,
         "True",
         null,
         "18.4439",
         "181 in",
         "2020-04-25",
         "BLACK",
         "270957414",
         "-66.0785",
         "Land Rover",
         "7 seats",
         "7.0",
         "Discovery Sport",
         null,
         "48880.0",
         null,
         "0",
         "389227",
         "Land Rover San Juan",
         null,
         "A",
         "9-Speed Automatic Overdrive",
         "t86759",
         "S AWD",
         null,
         "AWD",
         "All-Wheel Drive",
         "107.9 in",
         "85.6 in",
         "2020"
        ]
       ],
       "shape": {
        "columns": 45,
        "rows": 5
       }
      },
      "text/html": [
       "<div>\n",
       "<style scoped>\n",
       "    .dataframe tbody tr th:only-of-type {\n",
       "        vertical-align: middle;\n",
       "    }\n",
       "\n",
       "    .dataframe tbody tr th {\n",
       "        vertical-align: top;\n",
       "    }\n",
       "\n",
       "    .dataframe thead th {\n",
       "        text-align: right;\n",
       "    }\n",
       "</style>\n",
       "<table border=\"1\" class=\"dataframe\">\n",
       "  <thead>\n",
       "    <tr style=\"text-align: right;\">\n",
       "      <th></th>\n",
       "      <th>vin</th>\n",
       "      <th>body_type</th>\n",
       "      <th>city</th>\n",
       "      <th>daysonmarket</th>\n",
       "      <th>description</th>\n",
       "      <th>engine_cylinders</th>\n",
       "      <th>engine_type</th>\n",
       "      <th>exterior_color</th>\n",
       "      <th>fleet</th>\n",
       "      <th>frame_damaged</th>\n",
       "      <th>...</th>\n",
       "      <th>transmission</th>\n",
       "      <th>transmission_display</th>\n",
       "      <th>trimId</th>\n",
       "      <th>trim_name</th>\n",
       "      <th>vehicle_damage_category</th>\n",
       "      <th>wheel_system</th>\n",
       "      <th>wheel_system_display</th>\n",
       "      <th>wheelbase</th>\n",
       "      <th>width</th>\n",
       "      <th>year</th>\n",
       "    </tr>\n",
       "  </thead>\n",
       "  <tbody>\n",
       "    <tr>\n",
       "      <th>0</th>\n",
       "      <td>ZACNJABB5KPJ92081</td>\n",
       "      <td>SUV / Crossover</td>\n",
       "      <td>Bayamon</td>\n",
       "      <td>522</td>\n",
       "      <td>[!@@Additional Info@@!]Engine: 2.4L I4 ZERO EV...</td>\n",
       "      <td>I4</td>\n",
       "      <td>I4</td>\n",
       "      <td>Solar Yellow</td>\n",
       "      <td>NaN</td>\n",
       "      <td>NaN</td>\n",
       "      <td>...</td>\n",
       "      <td>A</td>\n",
       "      <td>9-Speed Automatic Overdrive</td>\n",
       "      <td>t83804</td>\n",
       "      <td>Latitude FWD</td>\n",
       "      <td>NaN</td>\n",
       "      <td>FWD</td>\n",
       "      <td>Front-Wheel Drive</td>\n",
       "      <td>101.2 in</td>\n",
       "      <td>79.6 in</td>\n",
       "      <td>2019</td>\n",
       "    </tr>\n",
       "    <tr>\n",
       "      <th>1</th>\n",
       "      <td>SALCJ2FX1LH858117</td>\n",
       "      <td>SUV / Crossover</td>\n",
       "      <td>San Juan</td>\n",
       "      <td>207</td>\n",
       "      <td>[!@@Additional Info@@!]Keyless Entry,Ebony Mor...</td>\n",
       "      <td>I4</td>\n",
       "      <td>I4</td>\n",
       "      <td>Narvik Black</td>\n",
       "      <td>NaN</td>\n",
       "      <td>NaN</td>\n",
       "      <td>...</td>\n",
       "      <td>A</td>\n",
       "      <td>9-Speed Automatic Overdrive</td>\n",
       "      <td>t86759</td>\n",
       "      <td>S AWD</td>\n",
       "      <td>NaN</td>\n",
       "      <td>AWD</td>\n",
       "      <td>All-Wheel Drive</td>\n",
       "      <td>107.9 in</td>\n",
       "      <td>85.6 in</td>\n",
       "      <td>2020</td>\n",
       "    </tr>\n",
       "    <tr>\n",
       "      <th>2</th>\n",
       "      <td>JF1VA2M67G9829723</td>\n",
       "      <td>Sedan</td>\n",
       "      <td>Guaynabo</td>\n",
       "      <td>1233</td>\n",
       "      <td>NaN</td>\n",
       "      <td>H4</td>\n",
       "      <td>H4</td>\n",
       "      <td>NaN</td>\n",
       "      <td>False</td>\n",
       "      <td>False</td>\n",
       "      <td>...</td>\n",
       "      <td>M</td>\n",
       "      <td>6-Speed Manual</td>\n",
       "      <td>t58994</td>\n",
       "      <td>Base</td>\n",
       "      <td>NaN</td>\n",
       "      <td>AWD</td>\n",
       "      <td>All-Wheel Drive</td>\n",
       "      <td>104.3 in</td>\n",
       "      <td>78.9 in</td>\n",
       "      <td>2016</td>\n",
       "    </tr>\n",
       "    <tr>\n",
       "      <th>3</th>\n",
       "      <td>SALRR2RV0L2433391</td>\n",
       "      <td>SUV / Crossover</td>\n",
       "      <td>San Juan</td>\n",
       "      <td>196</td>\n",
       "      <td>[!@@Additional Info@@!]Fog Lights,7 Seat Packa...</td>\n",
       "      <td>V6</td>\n",
       "      <td>V6</td>\n",
       "      <td>Eiger Gray</td>\n",
       "      <td>NaN</td>\n",
       "      <td>NaN</td>\n",
       "      <td>...</td>\n",
       "      <td>A</td>\n",
       "      <td>8-Speed Automatic Overdrive</td>\n",
       "      <td>t86074</td>\n",
       "      <td>V6 HSE AWD</td>\n",
       "      <td>NaN</td>\n",
       "      <td>AWD</td>\n",
       "      <td>All-Wheel Drive</td>\n",
       "      <td>115 in</td>\n",
       "      <td>87.4 in</td>\n",
       "      <td>2020</td>\n",
       "    </tr>\n",
       "    <tr>\n",
       "      <th>4</th>\n",
       "      <td>SALCJ2FXXLH862327</td>\n",
       "      <td>SUV / Crossover</td>\n",
       "      <td>San Juan</td>\n",
       "      <td>137</td>\n",
       "      <td>[!@@Additional Info@@!]Keyless Entry,Ebony Mor...</td>\n",
       "      <td>I4</td>\n",
       "      <td>I4</td>\n",
       "      <td>Narvik Black</td>\n",
       "      <td>NaN</td>\n",
       "      <td>NaN</td>\n",
       "      <td>...</td>\n",
       "      <td>A</td>\n",
       "      <td>9-Speed Automatic Overdrive</td>\n",
       "      <td>t86759</td>\n",
       "      <td>S AWD</td>\n",
       "      <td>NaN</td>\n",
       "      <td>AWD</td>\n",
       "      <td>All-Wheel Drive</td>\n",
       "      <td>107.9 in</td>\n",
       "      <td>85.6 in</td>\n",
       "      <td>2020</td>\n",
       "    </tr>\n",
       "  </tbody>\n",
       "</table>\n",
       "<p>5 rows × 45 columns</p>\n",
       "</div>"
      ],
      "text/plain": [
       "                 vin        body_type      city  daysonmarket  \\\n",
       "0  ZACNJABB5KPJ92081  SUV / Crossover   Bayamon           522   \n",
       "1  SALCJ2FX1LH858117  SUV / Crossover  San Juan           207   \n",
       "2  JF1VA2M67G9829723            Sedan  Guaynabo          1233   \n",
       "3  SALRR2RV0L2433391  SUV / Crossover  San Juan           196   \n",
       "4  SALCJ2FXXLH862327  SUV / Crossover  San Juan           137   \n",
       "\n",
       "                                         description engine_cylinders  \\\n",
       "0  [!@@Additional Info@@!]Engine: 2.4L I4 ZERO EV...               I4   \n",
       "1  [!@@Additional Info@@!]Keyless Entry,Ebony Mor...               I4   \n",
       "2                                                NaN               H4   \n",
       "3  [!@@Additional Info@@!]Fog Lights,7 Seat Packa...               V6   \n",
       "4  [!@@Additional Info@@!]Keyless Entry,Ebony Mor...               I4   \n",
       "\n",
       "  engine_type exterior_color  fleet frame_damaged  ...  transmission  \\\n",
       "0          I4   Solar Yellow    NaN           NaN  ...             A   \n",
       "1          I4   Narvik Black    NaN           NaN  ...             A   \n",
       "2          H4            NaN  False         False  ...             M   \n",
       "3          V6     Eiger Gray    NaN           NaN  ...             A   \n",
       "4          I4   Narvik Black    NaN           NaN  ...             A   \n",
       "\n",
       "          transmission_display  trimId     trim_name  vehicle_damage_category  \\\n",
       "0  9-Speed Automatic Overdrive  t83804  Latitude FWD                      NaN   \n",
       "1  9-Speed Automatic Overdrive  t86759         S AWD                      NaN   \n",
       "2               6-Speed Manual  t58994          Base                      NaN   \n",
       "3  8-Speed Automatic Overdrive  t86074    V6 HSE AWD                      NaN   \n",
       "4  9-Speed Automatic Overdrive  t86759         S AWD                      NaN   \n",
       "\n",
       "  wheel_system  wheel_system_display wheelbase    width  year  \n",
       "0          FWD     Front-Wheel Drive  101.2 in  79.6 in  2019  \n",
       "1          AWD       All-Wheel Drive  107.9 in  85.6 in  2020  \n",
       "2          AWD       All-Wheel Drive  104.3 in  78.9 in  2016  \n",
       "3          AWD       All-Wheel Drive    115 in  87.4 in  2020  \n",
       "4          AWD       All-Wheel Drive  107.9 in  85.6 in  2020  \n",
       "\n",
       "[5 rows x 45 columns]"
      ]
     },
     "execution_count": 57,
     "metadata": {},
     "output_type": "execute_result"
    }
   ],
   "source": [
    "used_cars_df.head()"
   ]
  },
  {
   "cell_type": "code",
   "execution_count": 58,
   "id": "2fc0ca86",
   "metadata": {},
   "outputs": [
    {
     "data": {
      "application/vnd.microsoft.datawrangler.viewer.v0+json": {
       "columns": [
        {
         "name": "index",
         "rawType": "object",
         "type": "string"
        },
        {
         "name": "0",
         "rawType": "int64",
         "type": "integer"
        }
       ],
       "ref": "8d4bffed-b547-4444-aa80-fdceb17db293",
       "rows": [
        [
         "is_certified",
         "100000"
        ],
        [
         "vehicle_damage_category",
         "100000"
        ],
        [
         "is_oemcpo",
         "93890"
        ],
        [
         "is_cpo",
         "91270"
        ],
        [
         "owner_count",
         "45722"
        ],
        [
         "theft_title",
         "43075"
        ],
        [
         "salvage",
         "43075"
        ],
        [
         "isCab",
         "43075"
        ],
        [
         "fleet",
         "43075"
        ],
        [
         "frame_damaged",
         "43075"
        ],
        [
         "has_accidents",
         "43075"
        ],
        [
         "length",
         "4954"
        ],
        [
         "wheelbase",
         "4954"
        ],
        [
         "maximum_seating",
         "4954"
        ],
        [
         "width",
         "4954"
        ],
        [
         "wheel_system",
         "4624"
        ],
        [
         "wheel_system_display",
         "4624"
        ],
        [
         "trim_name",
         "3841"
        ],
        [
         "trimId",
         "3823"
        ],
        [
         "mileage",
         "3557"
        ]
       ],
       "shape": {
        "columns": 1,
        "rows": 20
       }
      },
      "text/plain": [
       "is_certified               100000\n",
       "vehicle_damage_category    100000\n",
       "is_oemcpo                   93890\n",
       "is_cpo                      91270\n",
       "owner_count                 45722\n",
       "theft_title                 43075\n",
       "salvage                     43075\n",
       "isCab                       43075\n",
       "fleet                       43075\n",
       "frame_damaged               43075\n",
       "has_accidents               43075\n",
       "length                       4954\n",
       "wheelbase                    4954\n",
       "maximum_seating              4954\n",
       "width                        4954\n",
       "wheel_system                 4624\n",
       "wheel_system_display         4624\n",
       "trim_name                    3841\n",
       "trimId                       3823\n",
       "mileage                      3557\n",
       "dtype: int64"
      ]
     },
     "execution_count": 58,
     "metadata": {},
     "output_type": "execute_result"
    }
   ],
   "source": [
    "# check for null values\n",
    "used_cars_df.isnull().sum().sort_values(ascending=False).head(20)"
   ]
  },
  {
   "cell_type": "code",
   "execution_count": 59,
   "id": "8c3d6893",
   "metadata": {},
   "outputs": [],
   "source": [
    "# imputations\n",
    "\n",
    "used_cars_df['has_accidents'] = used_cars_df['has_accidents'].fillna(0)\n",
    "used_cars_df['salvage'] = used_cars_df['salvage'].fillna(0)\n",
    "used_cars_df['frame_damaged'] = used_cars_df['frame_damaged'].fillna(0)\n"
   ]
  },
  {
   "cell_type": "code",
   "execution_count": 60,
   "id": "903aacce",
   "metadata": {},
   "outputs": [
    {
     "data": {
      "application/vnd.microsoft.datawrangler.viewer.v0+json": {
       "columns": [
        {
         "name": "theft_title",
         "rawType": "object",
         "type": "unknown"
        },
        {
         "name": "count",
         "rawType": "int64",
         "type": "integer"
        }
       ],
       "ref": "7598917b-2922-4466-8dc2-d50e9d11ed25",
       "rows": [
        [
         "False",
         "56694"
        ],
        [
         null,
         "43075"
        ],
        [
         "True",
         "231"
        ]
       ],
       "shape": {
        "columns": 1,
        "rows": 3
       }
      },
      "text/plain": [
       "theft_title\n",
       "False    56694\n",
       "NaN      43075\n",
       "True       231\n",
       "Name: count, dtype: int64"
      ]
     },
     "execution_count": 60,
     "metadata": {},
     "output_type": "execute_result"
    }
   ],
   "source": [
    "used_cars_df['theft_title'].value_counts(dropna=False)\n"
   ]
  },
  {
   "cell_type": "code",
   "execution_count": 61,
   "id": "83bae15b",
   "metadata": {},
   "outputs": [
    {
     "data": {
      "application/vnd.microsoft.datawrangler.viewer.v0+json": {
       "columns": [
        {
         "name": "theft_title",
         "rawType": "object",
         "type": "string"
        },
        {
         "name": "count",
         "rawType": "int64",
         "type": "integer"
        }
       ],
       "ref": "bc318dbf-9c86-4e08-a3dd-785a037dc11a",
       "rows": [
        [
         "No Theft",
         "56694"
        ],
        [
         "Unknown",
         "43075"
        ],
        [
         "Theft",
         "231"
        ]
       ],
       "shape": {
        "columns": 1,
        "rows": 3
       }
      },
      "text/plain": [
       "theft_title\n",
       "No Theft    56694\n",
       "Unknown     43075\n",
       "Theft         231\n",
       "Name: count, dtype: int64"
      ]
     },
     "execution_count": 61,
     "metadata": {},
     "output_type": "execute_result"
    }
   ],
   "source": [
    "used_cars_df['theft_title'] = used_cars_df['theft_title'].map(\n",
    "    {True: \"Theft\", False: \"No Theft\"}\n",
    ")\n",
    "used_cars_df['theft_title'] = used_cars_df['theft_title'].fillna(\"Unknown\")\n",
    "\n",
    "used_cars_df['theft_title'].value_counts(dropna=False)"
   ]
  },
  {
   "cell_type": "code",
   "execution_count": 62,
   "id": "4730be6b",
   "metadata": {},
   "outputs": [
    {
     "name": "stdout",
     "output_type": "stream",
     "text": [
      "Low-cardinality categorical: ['body_type', 'fleet', 'frame_damaged', 'fuel_type', 'has_accidents', 'isCab', 'is_cpo', 'is_oemcpo', 'listing_color', 'maximum_seating', 'salvage', 'theft_title', 'transmission', 'wheel_system', 'wheel_system_display']\n",
      "High-cardinality categorical: ['vin', 'city', 'description', 'engine_cylinders', 'engine_type', 'exterior_color', 'length', 'listed_date', 'make_name', 'model_name', 'sp_name', 'transmission_display', 'trimId', 'trim_name', 'wheelbase', 'width']\n"
     ]
    }
   ],
   "source": [
    "# Example split\n",
    "low_cardinality = [col for col in used_cars_df.select_dtypes(include=[\"object\"]).columns \n",
    "                   if used_cars_df[col].nunique() < 20]\n",
    "\n",
    "high_cardinality = [col for col in used_cars_df.select_dtypes(include=[\"object\"]).columns \n",
    "                    if used_cars_df[col].nunique() >= 20]\n",
    "\n",
    "print(\"Low-cardinality categorical:\", low_cardinality)\n",
    "print(\"High-cardinality categorical:\", high_cardinality)\n"
   ]
  },
  {
   "cell_type": "code",
   "execution_count": 63,
   "id": "38d6c3d8",
   "metadata": {},
   "outputs": [
    {
     "name": "stdout",
     "output_type": "stream",
     "text": [
      "Final shape: (100000, 101)\n"
     ]
    }
   ],
   "source": [
    "# One-hot encode low-cardinality\n",
    "low_card = ['body_type', 'fleet', 'frame_damaged', 'fuel_type', 'has_accidents',\n",
    "            'isCab', 'is_cpo', 'is_oemcpo', 'listing_color', 'maximum_seating',\n",
    "            'salvage', 'theft_title', 'transmission', 'wheel_system', 'wheel_system_display']\n",
    "\n",
    "used_cars_encoded = pd.get_dummies(used_cars_df, columns=low_card, drop_first=False)\n",
    "\n",
    "# Drop pure ID/noise features\n",
    "used_cars_encoded.drop(columns=['vin', 'sp_name'], inplace=True)\n",
    "\n",
    "# Convert numeric-like strings\n",
    "for col in ['length', 'wheelbase', 'width']:\n",
    "    if col in used_cars_encoded.columns:\n",
    "        # Remove \" in\" if present\n",
    "        used_cars_encoded[col] = used_cars_encoded[col].astype(str).str.replace(\" in\", \"\", regex=False)\n",
    "        # Replace \"--\" and other non-numeric with NaN\n",
    "        used_cars_encoded[col] = pd.to_numeric(used_cars_encoded[col], errors='coerce')\n",
    "\n",
    "\n",
    "# Frequency encode high-cardinality categoricals\n",
    "high_card = ['city', 'make_name', 'model_name', 'engine_type', 'engine_cylinders', \n",
    "             'exterior_color', 'trim_name', 'transmission_display']\n",
    "\n",
    "for col in high_card:\n",
    "    freq_map = used_cars_encoded[col].value_counts().to_dict()\n",
    "    used_cars_encoded[col] = used_cars_encoded[col].map(freq_map)\n",
    "\n",
    "# Dates → extract useful info\n",
    "used_cars_encoded['listed_date'] = pd.to_datetime(used_cars_encoded['listed_date'], errors='coerce')\n",
    "used_cars_encoded['listed_year'] = used_cars_encoded['listed_date'].dt.year\n",
    "used_cars_encoded['listed_month'] = used_cars_encoded['listed_date'].dt.month\n",
    "used_cars_encoded.drop(columns=['listed_date'], inplace=True)\n",
    "\n",
    "print(\"Final shape:\", used_cars_encoded.shape)\n"
   ]
  },
  {
   "cell_type": "code",
   "execution_count": 64,
   "id": "4f1b9d75",
   "metadata": {},
   "outputs": [
    {
     "data": {
      "application/vnd.microsoft.datawrangler.viewer.v0+json": {
       "columns": [
        {
         "name": "index",
         "rawType": "object",
         "type": "string"
        },
        {
         "name": "0",
         "rawType": "int64",
         "type": "integer"
        }
       ],
       "ref": "8f5a34c0-8c55-42b8-b2fa-2267cb71c5dc",
       "rows": [
        [
         "is_certified",
         "100000"
        ],
        [
         "vehicle_damage_category",
         "100000"
        ],
        [
         "owner_count",
         "45722"
        ],
        [
         "width",
         "4976"
        ],
        [
         "length",
         "4975"
        ],
        [
         "wheelbase",
         "4975"
        ],
        [
         "trim_name",
         "3841"
        ],
        [
         "trimId",
         "3823"
        ],
        [
         "mileage",
         "3557"
        ],
        [
         "engine_type",
         "2998"
        ],
        [
         "engine_cylinders",
         "2998"
        ],
        [
         "description",
         "2543"
        ],
        [
         "exterior_color",
         "1393"
        ],
        [
         "transmission_display",
         "1001"
        ],
        [
         "city",
         "0"
        ]
       ],
       "shape": {
        "columns": 1,
        "rows": 15
       }
      },
      "text/plain": [
       "is_certified               100000\n",
       "vehicle_damage_category    100000\n",
       "owner_count                 45722\n",
       "width                        4976\n",
       "length                       4975\n",
       "wheelbase                    4975\n",
       "trim_name                    3841\n",
       "trimId                       3823\n",
       "mileage                      3557\n",
       "engine_type                  2998\n",
       "engine_cylinders             2998\n",
       "description                  2543\n",
       "exterior_color               1393\n",
       "transmission_display         1001\n",
       "city                            0\n",
       "dtype: int64"
      ]
     },
     "execution_count": 64,
     "metadata": {},
     "output_type": "execute_result"
    }
   ],
   "source": [
    "used_cars_encoded.isna().sum().sort_values(ascending=False).head(15)\n"
   ]
  },
  {
   "cell_type": "code",
   "execution_count": 65,
   "id": "ca88f95e",
   "metadata": {},
   "outputs": [],
   "source": [
    "from sklearn.impute import SimpleImputer\n",
    "import numpy as np\n",
    "\n",
    "# Drop mostly empty cols\n",
    "used_cars_encoded.drop(columns=['length', 'width', 'wheelbase', 'trimId'], inplace=True)\n",
    "\n",
    "# Fill numeric cols\n",
    "num_imputer = SimpleImputer(strategy='median')\n",
    "used_cars_encoded['mileage'] = num_imputer.fit_transform(used_cars_encoded[['mileage']])\n",
    "used_cars_encoded['owner_count'] = num_imputer.fit_transform(used_cars_encoded[['owner_count']])\n",
    "\n",
    "# Fill categoricals with 'Unknown'\n",
    "for col in ['engine_type', 'engine_cylinders', 'exterior_color', 'transmission_display', 'trim_name']:\n",
    "    used_cars_encoded[col] = used_cars_encoded[col].fillna(\"Unknown\")\n"
   ]
  },
  {
   "cell_type": "code",
   "execution_count": 66,
   "id": "b843255a",
   "metadata": {},
   "outputs": [
    {
     "data": {
      "application/vnd.microsoft.datawrangler.viewer.v0+json": {
       "columns": [
        {
         "name": "index",
         "rawType": "object",
         "type": "string"
        },
        {
         "name": "0",
         "rawType": "int64",
         "type": "integer"
        }
       ],
       "ref": "8fb8c138-cc4f-4293-b6ee-527965046089",
       "rows": [
        [
         "is_certified",
         "100000"
        ],
        [
         "vehicle_damage_category",
         "100000"
        ],
        [
         "description",
         "2543"
        ],
        [
         "city",
         "0"
        ],
        [
         "engine_cylinders",
         "0"
        ],
        [
         "engine_type",
         "0"
        ],
        [
         "exterior_color",
         "0"
        ],
        [
         "franchise_dealer",
         "0"
        ],
        [
         "daysonmarket",
         "0"
        ],
        [
         "latitude",
         "0"
        ],
        [
         "listing_id",
         "0"
        ],
        [
         "longitude",
         "0"
        ],
        [
         "make_name",
         "0"
        ],
        [
         "mileage",
         "0"
        ],
        [
         "model_name",
         "0"
        ]
       ],
       "shape": {
        "columns": 1,
        "rows": 15
       }
      },
      "text/plain": [
       "is_certified               100000\n",
       "vehicle_damage_category    100000\n",
       "description                  2543\n",
       "city                            0\n",
       "engine_cylinders                0\n",
       "engine_type                     0\n",
       "exterior_color                  0\n",
       "franchise_dealer                0\n",
       "daysonmarket                    0\n",
       "latitude                        0\n",
       "listing_id                      0\n",
       "longitude                       0\n",
       "make_name                       0\n",
       "mileage                         0\n",
       "model_name                      0\n",
       "dtype: int64"
      ]
     },
     "execution_count": 66,
     "metadata": {},
     "output_type": "execute_result"
    }
   ],
   "source": [
    "used_cars_encoded.isna().sum().sort_values(ascending=False).head(15)"
   ]
  },
  {
   "cell_type": "code",
   "execution_count": null,
   "id": "401fe2f2",
   "metadata": {},
   "outputs": [],
   "source": [
    "# drop description for baseline model\n",
    "used_cars_encoded.drop(columns=['description'], inplace=True)"
   ]
  },
  {
   "cell_type": "code",
   "execution_count": 69,
   "id": "6b87d03a",
   "metadata": {},
   "outputs": [
    {
     "data": {
      "application/vnd.microsoft.datawrangler.viewer.v0+json": {
       "columns": [
        {
         "name": "index",
         "rawType": "int64",
         "type": "integer"
        },
        {
         "name": "city",
         "rawType": "int64",
         "type": "integer"
        },
        {
         "name": "daysonmarket",
         "rawType": "int64",
         "type": "integer"
        },
        {
         "name": "engine_cylinders",
         "rawType": "object",
         "type": "unknown"
        },
        {
         "name": "engine_type",
         "rawType": "object",
         "type": "unknown"
        },
        {
         "name": "exterior_color",
         "rawType": "object",
         "type": "unknown"
        },
        {
         "name": "franchise_dealer",
         "rawType": "bool",
         "type": "boolean"
        },
        {
         "name": "is_certified",
         "rawType": "float64",
         "type": "float"
        },
        {
         "name": "is_new",
         "rawType": "bool",
         "type": "boolean"
        },
        {
         "name": "latitude",
         "rawType": "float64",
         "type": "float"
        },
        {
         "name": "listing_id",
         "rawType": "int64",
         "type": "integer"
        },
        {
         "name": "longitude",
         "rawType": "float64",
         "type": "float"
        },
        {
         "name": "make_name",
         "rawType": "int64",
         "type": "integer"
        },
        {
         "name": "mileage",
         "rawType": "float64",
         "type": "float"
        },
        {
         "name": "model_name",
         "rawType": "int64",
         "type": "integer"
        },
        {
         "name": "owner_count",
         "rawType": "float64",
         "type": "float"
        },
        {
         "name": "price",
         "rawType": "float64",
         "type": "float"
        },
        {
         "name": "savings_amount",
         "rawType": "int64",
         "type": "integer"
        },
        {
         "name": "sp_id",
         "rawType": "int64",
         "type": "integer"
        },
        {
         "name": "transmission_display",
         "rawType": "object",
         "type": "unknown"
        },
        {
         "name": "trim_name",
         "rawType": "object",
         "type": "unknown"
        },
        {
         "name": "vehicle_damage_category",
         "rawType": "float64",
         "type": "float"
        },
        {
         "name": "year",
         "rawType": "int64",
         "type": "integer"
        },
        {
         "name": "body_type_Convertible",
         "rawType": "bool",
         "type": "boolean"
        },
        {
         "name": "body_type_Coupe",
         "rawType": "bool",
         "type": "boolean"
        },
        {
         "name": "body_type_Hatchback",
         "rawType": "bool",
         "type": "boolean"
        },
        {
         "name": "body_type_Minivan",
         "rawType": "bool",
         "type": "boolean"
        },
        {
         "name": "body_type_Pickup Truck",
         "rawType": "bool",
         "type": "boolean"
        },
        {
         "name": "body_type_SUV / Crossover",
         "rawType": "bool",
         "type": "boolean"
        },
        {
         "name": "body_type_Sedan",
         "rawType": "bool",
         "type": "boolean"
        },
        {
         "name": "body_type_Van",
         "rawType": "bool",
         "type": "boolean"
        },
        {
         "name": "body_type_Wagon",
         "rawType": "bool",
         "type": "boolean"
        },
        {
         "name": "fleet_False",
         "rawType": "bool",
         "type": "boolean"
        },
        {
         "name": "fleet_True",
         "rawType": "bool",
         "type": "boolean"
        },
        {
         "name": "frame_damaged_0",
         "rawType": "bool",
         "type": "boolean"
        },
        {
         "name": "frame_damaged_True",
         "rawType": "bool",
         "type": "boolean"
        },
        {
         "name": "fuel_type_Biodiesel",
         "rawType": "bool",
         "type": "boolean"
        },
        {
         "name": "fuel_type_Compressed Natural Gas",
         "rawType": "bool",
         "type": "boolean"
        },
        {
         "name": "fuel_type_Diesel",
         "rawType": "bool",
         "type": "boolean"
        },
        {
         "name": "fuel_type_Electric",
         "rawType": "bool",
         "type": "boolean"
        },
        {
         "name": "fuel_type_Flex Fuel Vehicle",
         "rawType": "bool",
         "type": "boolean"
        },
        {
         "name": "fuel_type_Gasoline",
         "rawType": "bool",
         "type": "boolean"
        },
        {
         "name": "fuel_type_Hybrid",
         "rawType": "bool",
         "type": "boolean"
        },
        {
         "name": "has_accidents_0",
         "rawType": "bool",
         "type": "boolean"
        },
        {
         "name": "has_accidents_True",
         "rawType": "bool",
         "type": "boolean"
        },
        {
         "name": "isCab_False",
         "rawType": "bool",
         "type": "boolean"
        },
        {
         "name": "isCab_True",
         "rawType": "bool",
         "type": "boolean"
        },
        {
         "name": "is_cpo_True",
         "rawType": "bool",
         "type": "boolean"
        },
        {
         "name": "is_oemcpo_True",
         "rawType": "bool",
         "type": "boolean"
        },
        {
         "name": "listing_color_BLACK",
         "rawType": "bool",
         "type": "boolean"
        },
        {
         "name": "listing_color_BLUE",
         "rawType": "bool",
         "type": "boolean"
        },
        {
         "name": "listing_color_BROWN",
         "rawType": "bool",
         "type": "boolean"
        },
        {
         "name": "listing_color_GOLD",
         "rawType": "bool",
         "type": "boolean"
        },
        {
         "name": "listing_color_GRAY",
         "rawType": "bool",
         "type": "boolean"
        },
        {
         "name": "listing_color_GREEN",
         "rawType": "bool",
         "type": "boolean"
        },
        {
         "name": "listing_color_ORANGE",
         "rawType": "bool",
         "type": "boolean"
        },
        {
         "name": "listing_color_PINK",
         "rawType": "bool",
         "type": "boolean"
        },
        {
         "name": "listing_color_PURPLE",
         "rawType": "bool",
         "type": "boolean"
        },
        {
         "name": "listing_color_RED",
         "rawType": "bool",
         "type": "boolean"
        },
        {
         "name": "listing_color_SILVER",
         "rawType": "bool",
         "type": "boolean"
        },
        {
         "name": "listing_color_TEAL",
         "rawType": "bool",
         "type": "boolean"
        },
        {
         "name": "listing_color_UNKNOWN",
         "rawType": "bool",
         "type": "boolean"
        },
        {
         "name": "listing_color_WHITE",
         "rawType": "bool",
         "type": "boolean"
        },
        {
         "name": "listing_color_YELLOW",
         "rawType": "bool",
         "type": "boolean"
        },
        {
         "name": "maximum_seating_--",
         "rawType": "bool",
         "type": "boolean"
        },
        {
         "name": "maximum_seating_10 seats",
         "rawType": "bool",
         "type": "boolean"
        },
        {
         "name": "maximum_seating_12 seats",
         "rawType": "bool",
         "type": "boolean"
        },
        {
         "name": "maximum_seating_15 seats",
         "rawType": "bool",
         "type": "boolean"
        },
        {
         "name": "maximum_seating_2 seats",
         "rawType": "bool",
         "type": "boolean"
        },
        {
         "name": "maximum_seating_3 seats",
         "rawType": "bool",
         "type": "boolean"
        },
        {
         "name": "maximum_seating_4 seats",
         "rawType": "bool",
         "type": "boolean"
        },
        {
         "name": "maximum_seating_5 seats",
         "rawType": "bool",
         "type": "boolean"
        },
        {
         "name": "maximum_seating_6 seats",
         "rawType": "bool",
         "type": "boolean"
        },
        {
         "name": "maximum_seating_7 seats",
         "rawType": "bool",
         "type": "boolean"
        },
        {
         "name": "maximum_seating_8 seats",
         "rawType": "bool",
         "type": "boolean"
        },
        {
         "name": "maximum_seating_9 seats",
         "rawType": "bool",
         "type": "boolean"
        },
        {
         "name": "salvage_0",
         "rawType": "bool",
         "type": "boolean"
        },
        {
         "name": "salvage_True",
         "rawType": "bool",
         "type": "boolean"
        },
        {
         "name": "theft_title_No Theft",
         "rawType": "bool",
         "type": "boolean"
        },
        {
         "name": "theft_title_Theft",
         "rawType": "bool",
         "type": "boolean"
        },
        {
         "name": "theft_title_Unknown",
         "rawType": "bool",
         "type": "boolean"
        },
        {
         "name": "transmission_A",
         "rawType": "bool",
         "type": "boolean"
        },
        {
         "name": "transmission_CVT",
         "rawType": "bool",
         "type": "boolean"
        },
        {
         "name": "transmission_Dual Clutch",
         "rawType": "bool",
         "type": "boolean"
        },
        {
         "name": "transmission_M",
         "rawType": "bool",
         "type": "boolean"
        },
        {
         "name": "wheel_system_4WD",
         "rawType": "bool",
         "type": "boolean"
        },
        {
         "name": "wheel_system_4X2",
         "rawType": "bool",
         "type": "boolean"
        },
        {
         "name": "wheel_system_AWD",
         "rawType": "bool",
         "type": "boolean"
        },
        {
         "name": "wheel_system_FWD",
         "rawType": "bool",
         "type": "boolean"
        },
        {
         "name": "wheel_system_RWD",
         "rawType": "bool",
         "type": "boolean"
        },
        {
         "name": "wheel_system_display_4X2",
         "rawType": "bool",
         "type": "boolean"
        },
        {
         "name": "wheel_system_display_All-Wheel Drive",
         "rawType": "bool",
         "type": "boolean"
        },
        {
         "name": "wheel_system_display_Four-Wheel Drive",
         "rawType": "bool",
         "type": "boolean"
        },
        {
         "name": "wheel_system_display_Front-Wheel Drive",
         "rawType": "bool",
         "type": "boolean"
        },
        {
         "name": "wheel_system_display_Rear-Wheel Drive",
         "rawType": "bool",
         "type": "boolean"
        },
        {
         "name": "listed_year",
         "rawType": "int32",
         "type": "integer"
        },
        {
         "name": "listed_month",
         "rawType": "int32",
         "type": "integer"
        }
       ],
       "ref": "8e9dd573-f3f0-4f8d-ba15-3735804324dd",
       "rows": [
        [
         "0",
         "32",
         "522",
         "51050.0",
         "51050.0",
         "11.0",
         "True",
         null,
         "True",
         "18.3988",
         "237132766",
         "-66.1582",
         "6170",
         "7.0",
         "297",
         "1.0",
         "23141.0",
         "0",
         "370599",
         "194.0",
         "25.0",
         null,
         "2019",
         "False",
         "False",
         "False",
         "False",
         "False",
         "True",
         "False",
         "False",
         "False",
         "False",
         "False",
         "True",
         "False",
         "False",
         "False",
         "False",
         "False",
         "False",
         "True",
         "False",
         "True",
         "False",
         "False",
         "False",
         "False",
         "False",
         "False",
         "False",
         "False",
         "False",
         "False",
         "False",
         "False",
         "False",
         "False",
         "False",
         "False",
         "False",
         "False",
         "False",
         "True",
         "False",
         "False",
         "False",
         "False",
         "False",
         "False",
         "False",
         "True",
         "False",
         "False",
         "False",
         "False",
         "True",
         "False",
         "False",
         "False",
         "True",
         "True",
         "False",
         "False",
         "False",
         "False",
         "False",
         "False",
         "True",
         "False",
         "False",
         "False",
         "False",
         "True",
         "False",
         "2019",
         "4"
        ],
        [
         "1",
         "69",
         "207",
         "51050.0",
         "51050.0",
         "94.0",
         "True",
         null,
         "True",
         "18.4439",
         "265946296",
         "-66.0785",
         "1259",
         "8.0",
         "272",
         "1.0",
         "46500.0",
         "0",
         "389227",
         "194.0",
         "1077.0",
         null,
         "2020",
         "False",
         "False",
         "False",
         "False",
         "False",
         "True",
         "False",
         "False",
         "False",
         "False",
         "False",
         "True",
         "False",
         "False",
         "False",
         "False",
         "False",
         "False",
         "True",
         "False",
         "True",
         "False",
         "False",
         "False",
         "False",
         "False",
         "True",
         "False",
         "False",
         "False",
         "False",
         "False",
         "False",
         "False",
         "False",
         "False",
         "False",
         "False",
         "False",
         "False",
         "False",
         "False",
         "False",
         "False",
         "False",
         "False",
         "False",
         "False",
         "False",
         "False",
         "True",
         "False",
         "False",
         "True",
         "False",
         "False",
         "False",
         "True",
         "True",
         "False",
         "False",
         "False",
         "False",
         "False",
         "True",
         "False",
         "False",
         "False",
         "True",
         "False",
         "False",
         "False",
         "2020",
         "2"
        ],
        [
         "2",
         "3",
         "1233",
         "3139.0",
         "3139.0",
         "Unknown",
         "True",
         null,
         "False",
         "18.3467",
         "173473508",
         "-66.1098",
         "3268",
         "15236.0",
         "49",
         "3.0",
         "46995.0",
         "0",
         "370467",
         "828.0",
         "242.0",
         null,
         "2016",
         "False",
         "False",
         "False",
         "False",
         "False",
         "False",
         "True",
         "False",
         "False",
         "True",
         "False",
         "True",
         "False",
         "False",
         "False",
         "False",
         "False",
         "False",
         "True",
         "False",
         "True",
         "False",
         "True",
         "False",
         "False",
         "False",
         "False",
         "False",
         "False",
         "False",
         "False",
         "False",
         "False",
         "False",
         "False",
         "False",
         "False",
         "False",
         "True",
         "False",
         "False",
         "False",
         "False",
         "False",
         "False",
         "False",
         "False",
         "False",
         "True",
         "False",
         "False",
         "False",
         "False",
         "True",
         "False",
         "True",
         "False",
         "False",
         "False",
         "False",
         "False",
         "True",
         "False",
         "False",
         "True",
         "False",
         "False",
         "False",
         "True",
         "False",
         "False",
         "False",
         "2017",
         "4"
        ],
        [
         "3",
         "69",
         "196",
         "25248.0",
         "25248.0",
         "17.0",
         "True",
         null,
         "True",
         "18.4439",
         "266911050",
         "-66.0785",
         "1259",
         "11.0",
         "103",
         "1.0",
         "67430.0",
         "0",
         "389227",
         "368.0",
         "34.0",
         null,
         "2020",
         "False",
         "False",
         "False",
         "False",
         "False",
         "True",
         "False",
         "False",
         "False",
         "False",
         "False",
         "True",
         "False",
         "False",
         "False",
         "False",
         "False",
         "False",
         "True",
         "False",
         "True",
         "False",
         "False",
         "False",
         "False",
         "False",
         "False",
         "False",
         "False",
         "False",
         "True",
         "False",
         "False",
         "False",
         "False",
         "False",
         "False",
         "False",
         "False",
         "False",
         "False",
         "False",
         "False",
         "False",
         "False",
         "False",
         "False",
         "False",
         "False",
         "False",
         "True",
         "False",
         "False",
         "True",
         "False",
         "False",
         "False",
         "True",
         "True",
         "False",
         "False",
         "False",
         "False",
         "False",
         "True",
         "False",
         "False",
         "False",
         "True",
         "False",
         "False",
         "False",
         "2020",
         "2"
        ],
        [
         "4",
         "69",
         "137",
         "51050.0",
         "51050.0",
         "94.0",
         "True",
         null,
         "True",
         "18.4439",
         "270957414",
         "-66.0785",
         "1259",
         "7.0",
         "272",
         "1.0",
         "48880.0",
         "0",
         "389227",
         "194.0",
         "1077.0",
         null,
         "2020",
         "False",
         "False",
         "False",
         "False",
         "False",
         "True",
         "False",
         "False",
         "False",
         "False",
         "False",
         "True",
         "False",
         "False",
         "False",
         "False",
         "False",
         "False",
         "True",
         "False",
         "True",
         "False",
         "False",
         "False",
         "False",
         "False",
         "True",
         "False",
         "False",
         "False",
         "False",
         "False",
         "False",
         "False",
         "False",
         "False",
         "False",
         "False",
         "False",
         "False",
         "False",
         "False",
         "False",
         "False",
         "False",
         "False",
         "False",
         "False",
         "False",
         "False",
         "True",
         "False",
         "False",
         "True",
         "False",
         "False",
         "False",
         "True",
         "True",
         "False",
         "False",
         "False",
         "False",
         "False",
         "True",
         "False",
         "False",
         "False",
         "True",
         "False",
         "False",
         "False",
         "2020",
         "4"
        ]
       ],
       "shape": {
        "columns": 96,
        "rows": 5
       }
      },
      "text/html": [
       "<div>\n",
       "<style scoped>\n",
       "    .dataframe tbody tr th:only-of-type {\n",
       "        vertical-align: middle;\n",
       "    }\n",
       "\n",
       "    .dataframe tbody tr th {\n",
       "        vertical-align: top;\n",
       "    }\n",
       "\n",
       "    .dataframe thead th {\n",
       "        text-align: right;\n",
       "    }\n",
       "</style>\n",
       "<table border=\"1\" class=\"dataframe\">\n",
       "  <thead>\n",
       "    <tr style=\"text-align: right;\">\n",
       "      <th></th>\n",
       "      <th>city</th>\n",
       "      <th>daysonmarket</th>\n",
       "      <th>engine_cylinders</th>\n",
       "      <th>engine_type</th>\n",
       "      <th>exterior_color</th>\n",
       "      <th>franchise_dealer</th>\n",
       "      <th>is_certified</th>\n",
       "      <th>is_new</th>\n",
       "      <th>latitude</th>\n",
       "      <th>listing_id</th>\n",
       "      <th>...</th>\n",
       "      <th>wheel_system_AWD</th>\n",
       "      <th>wheel_system_FWD</th>\n",
       "      <th>wheel_system_RWD</th>\n",
       "      <th>wheel_system_display_4X2</th>\n",
       "      <th>wheel_system_display_All-Wheel Drive</th>\n",
       "      <th>wheel_system_display_Four-Wheel Drive</th>\n",
       "      <th>wheel_system_display_Front-Wheel Drive</th>\n",
       "      <th>wheel_system_display_Rear-Wheel Drive</th>\n",
       "      <th>listed_year</th>\n",
       "      <th>listed_month</th>\n",
       "    </tr>\n",
       "  </thead>\n",
       "  <tbody>\n",
       "    <tr>\n",
       "      <th>0</th>\n",
       "      <td>32</td>\n",
       "      <td>522</td>\n",
       "      <td>51050.0</td>\n",
       "      <td>51050.0</td>\n",
       "      <td>11.0</td>\n",
       "      <td>True</td>\n",
       "      <td>NaN</td>\n",
       "      <td>True</td>\n",
       "      <td>18.3988</td>\n",
       "      <td>237132766</td>\n",
       "      <td>...</td>\n",
       "      <td>False</td>\n",
       "      <td>True</td>\n",
       "      <td>False</td>\n",
       "      <td>False</td>\n",
       "      <td>False</td>\n",
       "      <td>False</td>\n",
       "      <td>True</td>\n",
       "      <td>False</td>\n",
       "      <td>2019</td>\n",
       "      <td>4</td>\n",
       "    </tr>\n",
       "    <tr>\n",
       "      <th>1</th>\n",
       "      <td>69</td>\n",
       "      <td>207</td>\n",
       "      <td>51050.0</td>\n",
       "      <td>51050.0</td>\n",
       "      <td>94.0</td>\n",
       "      <td>True</td>\n",
       "      <td>NaN</td>\n",
       "      <td>True</td>\n",
       "      <td>18.4439</td>\n",
       "      <td>265946296</td>\n",
       "      <td>...</td>\n",
       "      <td>True</td>\n",
       "      <td>False</td>\n",
       "      <td>False</td>\n",
       "      <td>False</td>\n",
       "      <td>True</td>\n",
       "      <td>False</td>\n",
       "      <td>False</td>\n",
       "      <td>False</td>\n",
       "      <td>2020</td>\n",
       "      <td>2</td>\n",
       "    </tr>\n",
       "    <tr>\n",
       "      <th>2</th>\n",
       "      <td>3</td>\n",
       "      <td>1233</td>\n",
       "      <td>3139.0</td>\n",
       "      <td>3139.0</td>\n",
       "      <td>Unknown</td>\n",
       "      <td>True</td>\n",
       "      <td>NaN</td>\n",
       "      <td>False</td>\n",
       "      <td>18.3467</td>\n",
       "      <td>173473508</td>\n",
       "      <td>...</td>\n",
       "      <td>True</td>\n",
       "      <td>False</td>\n",
       "      <td>False</td>\n",
       "      <td>False</td>\n",
       "      <td>True</td>\n",
       "      <td>False</td>\n",
       "      <td>False</td>\n",
       "      <td>False</td>\n",
       "      <td>2017</td>\n",
       "      <td>4</td>\n",
       "    </tr>\n",
       "    <tr>\n",
       "      <th>3</th>\n",
       "      <td>69</td>\n",
       "      <td>196</td>\n",
       "      <td>25248.0</td>\n",
       "      <td>25248.0</td>\n",
       "      <td>17.0</td>\n",
       "      <td>True</td>\n",
       "      <td>NaN</td>\n",
       "      <td>True</td>\n",
       "      <td>18.4439</td>\n",
       "      <td>266911050</td>\n",
       "      <td>...</td>\n",
       "      <td>True</td>\n",
       "      <td>False</td>\n",
       "      <td>False</td>\n",
       "      <td>False</td>\n",
       "      <td>True</td>\n",
       "      <td>False</td>\n",
       "      <td>False</td>\n",
       "      <td>False</td>\n",
       "      <td>2020</td>\n",
       "      <td>2</td>\n",
       "    </tr>\n",
       "    <tr>\n",
       "      <th>4</th>\n",
       "      <td>69</td>\n",
       "      <td>137</td>\n",
       "      <td>51050.0</td>\n",
       "      <td>51050.0</td>\n",
       "      <td>94.0</td>\n",
       "      <td>True</td>\n",
       "      <td>NaN</td>\n",
       "      <td>True</td>\n",
       "      <td>18.4439</td>\n",
       "      <td>270957414</td>\n",
       "      <td>...</td>\n",
       "      <td>True</td>\n",
       "      <td>False</td>\n",
       "      <td>False</td>\n",
       "      <td>False</td>\n",
       "      <td>True</td>\n",
       "      <td>False</td>\n",
       "      <td>False</td>\n",
       "      <td>False</td>\n",
       "      <td>2020</td>\n",
       "      <td>4</td>\n",
       "    </tr>\n",
       "  </tbody>\n",
       "</table>\n",
       "<p>5 rows × 96 columns</p>\n",
       "</div>"
      ],
      "text/plain": [
       "   city  daysonmarket engine_cylinders engine_type exterior_color  \\\n",
       "0    32           522          51050.0     51050.0           11.0   \n",
       "1    69           207          51050.0     51050.0           94.0   \n",
       "2     3          1233           3139.0      3139.0        Unknown   \n",
       "3    69           196          25248.0     25248.0           17.0   \n",
       "4    69           137          51050.0     51050.0           94.0   \n",
       "\n",
       "   franchise_dealer  is_certified  is_new  latitude  listing_id  ...  \\\n",
       "0              True           NaN    True   18.3988   237132766  ...   \n",
       "1              True           NaN    True   18.4439   265946296  ...   \n",
       "2              True           NaN   False   18.3467   173473508  ...   \n",
       "3              True           NaN    True   18.4439   266911050  ...   \n",
       "4              True           NaN    True   18.4439   270957414  ...   \n",
       "\n",
       "   wheel_system_AWD  wheel_system_FWD  wheel_system_RWD  \\\n",
       "0             False              True             False   \n",
       "1              True             False             False   \n",
       "2              True             False             False   \n",
       "3              True             False             False   \n",
       "4              True             False             False   \n",
       "\n",
       "   wheel_system_display_4X2  wheel_system_display_All-Wheel Drive  \\\n",
       "0                     False                                 False   \n",
       "1                     False                                  True   \n",
       "2                     False                                  True   \n",
       "3                     False                                  True   \n",
       "4                     False                                  True   \n",
       "\n",
       "   wheel_system_display_Four-Wheel Drive  \\\n",
       "0                                  False   \n",
       "1                                  False   \n",
       "2                                  False   \n",
       "3                                  False   \n",
       "4                                  False   \n",
       "\n",
       "   wheel_system_display_Front-Wheel Drive  \\\n",
       "0                                    True   \n",
       "1                                   False   \n",
       "2                                   False   \n",
       "3                                   False   \n",
       "4                                   False   \n",
       "\n",
       "   wheel_system_display_Rear-Wheel Drive listed_year listed_month  \n",
       "0                                  False        2019            4  \n",
       "1                                  False        2020            2  \n",
       "2                                  False        2017            4  \n",
       "3                                  False        2020            2  \n",
       "4                                  False        2020            4  \n",
       "\n",
       "[5 rows x 96 columns]"
      ]
     },
     "execution_count": 69,
     "metadata": {},
     "output_type": "execute_result"
    }
   ],
   "source": [
    "used_cars_encoded.head()"
   ]
  }
 ],
 "metadata": {
  "kernelspec": {
   "display_name": ".venv",
   "language": "python",
   "name": "python3"
  },
  "language_info": {
   "codemirror_mode": {
    "name": "ipython",
    "version": 3
   },
   "file_extension": ".py",
   "mimetype": "text/x-python",
   "name": "python",
   "nbconvert_exporter": "python",
   "pygments_lexer": "ipython3",
   "version": "3.12.2"
  }
 },
 "nbformat": 4,
 "nbformat_minor": 5
}
