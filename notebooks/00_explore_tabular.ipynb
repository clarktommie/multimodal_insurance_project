{
 "cells": [
  {
   "cell_type": "code",
   "execution_count": 7,
   "id": "8c693656",
   "metadata": {},
   "outputs": [
    {
     "name": "stdout",
     "output_type": "stream",
     "text": [
      "(100000, 66)\n"
     ]
    },
    {
     "data": {
      "application/vnd.microsoft.datawrangler.viewer.v0+json": {
       "columns": [
        {
         "name": "index",
         "rawType": "int64",
         "type": "integer"
        },
        {
         "name": "vin",
         "rawType": "object",
         "type": "string"
        },
        {
         "name": "back_legroom",
         "rawType": "object",
         "type": "string"
        },
        {
         "name": "bed",
         "rawType": "object",
         "type": "unknown"
        },
        {
         "name": "bed_height",
         "rawType": "object",
         "type": "unknown"
        },
        {
         "name": "bed_length",
         "rawType": "object",
         "type": "unknown"
        },
        {
         "name": "body_type",
         "rawType": "object",
         "type": "string"
        },
        {
         "name": "cabin",
         "rawType": "object",
         "type": "unknown"
        },
        {
         "name": "city",
         "rawType": "object",
         "type": "string"
        },
        {
         "name": "city_fuel_economy",
         "rawType": "float64",
         "type": "float"
        },
        {
         "name": "combine_fuel_economy",
         "rawType": "float64",
         "type": "float"
        },
        {
         "name": "daysonmarket",
         "rawType": "int64",
         "type": "integer"
        },
        {
         "name": "dealer_zip",
         "rawType": "int64",
         "type": "integer"
        },
        {
         "name": "description",
         "rawType": "object",
         "type": "unknown"
        },
        {
         "name": "engine_cylinders",
         "rawType": "object",
         "type": "string"
        },
        {
         "name": "engine_displacement",
         "rawType": "float64",
         "type": "float"
        },
        {
         "name": "engine_type",
         "rawType": "object",
         "type": "string"
        },
        {
         "name": "exterior_color",
         "rawType": "object",
         "type": "unknown"
        },
        {
         "name": "fleet",
         "rawType": "object",
         "type": "unknown"
        },
        {
         "name": "frame_damaged",
         "rawType": "object",
         "type": "unknown"
        },
        {
         "name": "franchise_dealer",
         "rawType": "bool",
         "type": "boolean"
        },
        {
         "name": "franchise_make",
         "rawType": "object",
         "type": "string"
        },
        {
         "name": "front_legroom",
         "rawType": "object",
         "type": "string"
        },
        {
         "name": "fuel_tank_volume",
         "rawType": "object",
         "type": "string"
        },
        {
         "name": "fuel_type",
         "rawType": "object",
         "type": "string"
        },
        {
         "name": "has_accidents",
         "rawType": "object",
         "type": "unknown"
        },
        {
         "name": "height",
         "rawType": "object",
         "type": "string"
        },
        {
         "name": "highway_fuel_economy",
         "rawType": "float64",
         "type": "float"
        },
        {
         "name": "horsepower",
         "rawType": "float64",
         "type": "float"
        },
        {
         "name": "interior_color",
         "rawType": "object",
         "type": "unknown"
        },
        {
         "name": "isCab",
         "rawType": "object",
         "type": "unknown"
        },
        {
         "name": "is_certified",
         "rawType": "float64",
         "type": "float"
        },
        {
         "name": "is_cpo",
         "rawType": "object",
         "type": "unknown"
        },
        {
         "name": "is_new",
         "rawType": "bool",
         "type": "boolean"
        },
        {
         "name": "is_oemcpo",
         "rawType": "object",
         "type": "unknown"
        },
        {
         "name": "latitude",
         "rawType": "float64",
         "type": "float"
        },
        {
         "name": "length",
         "rawType": "object",
         "type": "string"
        },
        {
         "name": "listed_date",
         "rawType": "object",
         "type": "string"
        },
        {
         "name": "listing_color",
         "rawType": "object",
         "type": "string"
        },
        {
         "name": "listing_id",
         "rawType": "int64",
         "type": "integer"
        },
        {
         "name": "longitude",
         "rawType": "float64",
         "type": "float"
        },
        {
         "name": "main_picture_url",
         "rawType": "object",
         "type": "unknown"
        },
        {
         "name": "major_options",
         "rawType": "object",
         "type": "unknown"
        },
        {
         "name": "make_name",
         "rawType": "object",
         "type": "string"
        },
        {
         "name": "maximum_seating",
         "rawType": "object",
         "type": "string"
        },
        {
         "name": "mileage",
         "rawType": "float64",
         "type": "float"
        },
        {
         "name": "model_name",
         "rawType": "object",
         "type": "string"
        },
        {
         "name": "owner_count",
         "rawType": "float64",
         "type": "float"
        },
        {
         "name": "power",
         "rawType": "object",
         "type": "string"
        },
        {
         "name": "price",
         "rawType": "float64",
         "type": "float"
        },
        {
         "name": "salvage",
         "rawType": "object",
         "type": "unknown"
        },
        {
         "name": "savings_amount",
         "rawType": "int64",
         "type": "integer"
        },
        {
         "name": "seller_rating",
         "rawType": "float64",
         "type": "float"
        },
        {
         "name": "sp_id",
         "rawType": "int64",
         "type": "integer"
        },
        {
         "name": "sp_name",
         "rawType": "object",
         "type": "string"
        },
        {
         "name": "theft_title",
         "rawType": "object",
         "type": "unknown"
        },
        {
         "name": "torque",
         "rawType": "object",
         "type": "string"
        },
        {
         "name": "transmission",
         "rawType": "object",
         "type": "string"
        },
        {
         "name": "transmission_display",
         "rawType": "object",
         "type": "string"
        },
        {
         "name": "trimId",
         "rawType": "object",
         "type": "string"
        },
        {
         "name": "trim_name",
         "rawType": "object",
         "type": "string"
        },
        {
         "name": "vehicle_damage_category",
         "rawType": "float64",
         "type": "float"
        },
        {
         "name": "wheel_system",
         "rawType": "object",
         "type": "string"
        },
        {
         "name": "wheel_system_display",
         "rawType": "object",
         "type": "string"
        },
        {
         "name": "wheelbase",
         "rawType": "object",
         "type": "string"
        },
        {
         "name": "width",
         "rawType": "object",
         "type": "string"
        },
        {
         "name": "year",
         "rawType": "int64",
         "type": "integer"
        }
       ],
       "ref": "30453baf-be57-456c-a309-537d086d0b14",
       "rows": [
        [
         "0",
         "ZACNJABB5KPJ92081",
         "35.1 in",
         null,
         null,
         null,
         "SUV / Crossover",
         null,
         "Bayamon",
         null,
         null,
         "522",
         "960",
         "[!@@Additional Info@@!]Engine: 2.4L I4 ZERO EVAP M-AIR,Full Size Temporary Use Spare Tire,Manufacturer's Statement of Origin,Quick Order Package 2XB,Tires: 215/60R17 BSW AS Touring,Transmission: 9-Speed 948TE Automatic,Wheels: 17' x 7.0' Aluminum",
         "I4",
         "1300.0",
         "I4",
         "Solar Yellow",
         null,
         null,
         "True",
         "Jeep",
         "41.2 in",
         "12.7 gal",
         "Gasoline",
         null,
         "66.5 in",
         null,
         "177.0",
         "Black",
         null,
         null,
         null,
         "True",
         null,
         "18.3988",
         "166.6 in",
         "2019-04-06",
         "YELLOW",
         "237132766",
         "-66.1582",
         "https://static.cargurus.com/images/forsale/2020/05/18/18/53/2019_jeep_renegade-pic-3296019950109819645-152x114.jpeg",
         "['Quick Order Package']",
         "Jeep",
         "5 seats",
         "7.0",
         "Renegade",
         null,
         "177 hp @ 5,750 RPM",
         "23141.0",
         null,
         "0",
         "2.8",
         "370599",
         "Flagship Chrysler",
         null,
         "200 lb-ft @ 1,750 RPM",
         "A",
         "9-Speed Automatic Overdrive",
         "t83804",
         "Latitude FWD",
         null,
         "FWD",
         "Front-Wheel Drive",
         "101.2 in",
         "79.6 in",
         "2019"
        ],
        [
         "1",
         "SALCJ2FX1LH858117",
         "38.1 in",
         null,
         null,
         null,
         "SUV / Crossover",
         null,
         "San Juan",
         null,
         null,
         "207",
         "922",
         "[!@@Additional Info@@!]Keyless Entry,Ebony Morzine Headliner,Chrome Wheel Protection Pack,Powered Tailgate,Loadspace Mat,Wheels: 18' Style 5075 Gloss Sparkle Silver,Cargo Carrier,High Speed Emergency Braking,Adaptive Cruise Control w/Stop & Go,Sunshade,12-Way Electric Front Seats,Rubber Mats,Drive Pack,Basic Rear Seat Convenience Pack,Premium Interior Protection,Blind Spot Assist,Cargo Net",
         "I4",
         "2000.0",
         "I4",
         "Narvik Black",
         null,
         null,
         "True",
         "Land Rover",
         "39.1 in",
         "17.7 gal",
         "Gasoline",
         null,
         "68 in",
         null,
         "246.0",
         "Black (Ebony)",
         null,
         null,
         null,
         "True",
         null,
         "18.4439",
         "181 in",
         "2020-02-15",
         "BLACK",
         "265946296",
         "-66.0785",
         "https://static.cargurus.com/images/forsale/2020/05/15/18/25/2020_land_rover_discovery_sport-pic-3854830367929838997-152x114.jpeg",
         "['Adaptive Cruise Control']",
         "Land Rover",
         "7 seats",
         "8.0",
         "Discovery Sport",
         null,
         "246 hp @ 5,500 RPM",
         "46500.0",
         null,
         "0",
         "3.0",
         "389227",
         "Land Rover San Juan",
         null,
         "269 lb-ft @ 1,400 RPM",
         "A",
         "9-Speed Automatic Overdrive",
         "t86759",
         "S AWD",
         null,
         "AWD",
         "All-Wheel Drive",
         "107.9 in",
         "85.6 in",
         "2020"
        ],
        [
         "2",
         "JF1VA2M67G9829723",
         "35.4 in",
         null,
         null,
         null,
         "Sedan",
         null,
         "Guaynabo",
         "17.0",
         null,
         "1233",
         "969",
         null,
         "H4",
         "2500.0",
         "H4",
         null,
         "False",
         "False",
         "True",
         "FIAT",
         "43.3 in",
         "15.9 gal",
         "Gasoline",
         "False",
         "58.1 in",
         "23.0",
         "305.0",
         null,
         "False",
         null,
         null,
         "False",
         null,
         "18.3467",
         "180.9 in",
         "2017-04-25",
         "UNKNOWN",
         "173473508",
         "-66.1098",
         null,
         "['Alloy Wheels', 'Bluetooth', 'Backup Camera', 'Heated Seats']",
         "Subaru",
         "5 seats",
         null,
         "WRX STI",
         "3.0",
         "305 hp @ 6,000 RPM",
         "46995.0",
         "False",
         "0",
         null,
         "370467",
         "FIAT de San Juan",
         "False",
         "290 lb-ft @ 4,000 RPM",
         "M",
         "6-Speed Manual",
         "t58994",
         "Base",
         null,
         "AWD",
         "All-Wheel Drive",
         "104.3 in",
         "78.9 in",
         "2016"
        ],
        [
         "3",
         "SALRR2RV0L2433391",
         "37.6 in",
         null,
         null,
         null,
         "SUV / Crossover",
         null,
         "San Juan",
         null,
         null,
         "196",
         "922",
         "[!@@Additional Info@@!]Fog Lights,7 Seat Package,Wheels: 21' 9 Spoke,GVWR: 6,900 lbs,Full Length Black Roof Rails,Twin-Speed Transfer Case,Cargo Carrier,Car Care Kit,Rubber Mat Set,Electronic Air Suspension,Prem Interior Protection/Storage Pack,Ebony Headlining,Wheel Protection Pack Chrome Locks,Cargo Mat,Tire Pressure Gauge,Windshield Sunshade,Basic Rear Seat Convenience Pack,Chrome Wheel Locks,Front Center Console Cooler Compartment,Tires: 21',Cabin Air Ionisation",
         "V6",
         "3000.0",
         "V6",
         "Eiger Gray",
         null,
         null,
         "True",
         "Land Rover",
         "39 in",
         "23.5 gal",
         "Gasoline",
         null,
         "73 in",
         null,
         "340.0",
         "Gray (Ebony/Ebony/Ebony)",
         null,
         null,
         null,
         "True",
         null,
         "18.4439",
         "195.1 in",
         "2020-02-26",
         "GRAY",
         "266911050",
         "-66.0785",
         "https://static.cargurus.com/images/forsale/2020/05/18/20/55/2020_land_rover_discovery-pic-3571104253551947583-152x114.jpeg",
         null,
         "Land Rover",
         "7 seats",
         "11.0",
         "Discovery",
         null,
         "340 hp @ 6,500 RPM",
         "67430.0",
         null,
         "0",
         "3.0",
         "389227",
         "Land Rover San Juan",
         null,
         "332 lb-ft @ 3,500 RPM",
         "A",
         "8-Speed Automatic Overdrive",
         "t86074",
         "V6 HSE AWD",
         null,
         "AWD",
         "All-Wheel Drive",
         "115 in",
         "87.4 in",
         "2020"
        ],
        [
         "4",
         "SALCJ2FXXLH862327",
         "38.1 in",
         null,
         null,
         null,
         "SUV / Crossover",
         null,
         "San Juan",
         null,
         null,
         "137",
         "922",
         "[!@@Additional Info@@!]Keyless Entry,Ebony Morzine Headliner,Chrome Wheel Protection Pack,ClearSight Rearview Mirror,Loadspace Mat,Wheels: 18' Style 5075 Gloss Sparkle Silver,Head-Up Display,Cargo Carrier,High Speed Emergency Braking,Adaptive Cruise Control w/Stop & Go,Sunshade,Technology Pack,12-Way Electric Front Seats,Rubber Mats,Drive Pack,Basic Rear Seat Convenience Pack,Fixed Panoramic Roof,Premium Interior Protection,Interactive Driver Display,Blind Spot Assist,Cargo Net,Wireless Device Charging",
         "I4",
         "2000.0",
         "I4",
         "Narvik Black",
         null,
         null,
         "True",
         "Land Rover",
         "39.1 in",
         "17.7 gal",
         "Gasoline",
         null,
         "68 in",
         null,
         "246.0",
         "Black (Ebony)",
         null,
         null,
         null,
         "True",
         null,
         "18.4439",
         "181 in",
         "2020-04-25",
         "BLACK",
         "270957414",
         "-66.0785",
         "https://static.cargurus.com/images/forsale/2020/07/19/01/27/2020_land_rover_discovery_sport-pic-2859722089486346228-152x114.jpeg",
         "['Adaptive Cruise Control']",
         "Land Rover",
         "7 seats",
         "7.0",
         "Discovery Sport",
         null,
         "246 hp @ 5,500 RPM",
         "48880.0",
         null,
         "0",
         "3.0",
         "389227",
         "Land Rover San Juan",
         null,
         "269 lb-ft @ 1,400 RPM",
         "A",
         "9-Speed Automatic Overdrive",
         "t86759",
         "S AWD",
         null,
         "AWD",
         "All-Wheel Drive",
         "107.9 in",
         "85.6 in",
         "2020"
        ]
       ],
       "shape": {
        "columns": 66,
        "rows": 5
       }
      },
      "text/html": [
       "<div>\n",
       "<style scoped>\n",
       "    .dataframe tbody tr th:only-of-type {\n",
       "        vertical-align: middle;\n",
       "    }\n",
       "\n",
       "    .dataframe tbody tr th {\n",
       "        vertical-align: top;\n",
       "    }\n",
       "\n",
       "    .dataframe thead th {\n",
       "        text-align: right;\n",
       "    }\n",
       "</style>\n",
       "<table border=\"1\" class=\"dataframe\">\n",
       "  <thead>\n",
       "    <tr style=\"text-align: right;\">\n",
       "      <th></th>\n",
       "      <th>vin</th>\n",
       "      <th>back_legroom</th>\n",
       "      <th>bed</th>\n",
       "      <th>bed_height</th>\n",
       "      <th>bed_length</th>\n",
       "      <th>body_type</th>\n",
       "      <th>cabin</th>\n",
       "      <th>city</th>\n",
       "      <th>city_fuel_economy</th>\n",
       "      <th>combine_fuel_economy</th>\n",
       "      <th>...</th>\n",
       "      <th>transmission</th>\n",
       "      <th>transmission_display</th>\n",
       "      <th>trimId</th>\n",
       "      <th>trim_name</th>\n",
       "      <th>vehicle_damage_category</th>\n",
       "      <th>wheel_system</th>\n",
       "      <th>wheel_system_display</th>\n",
       "      <th>wheelbase</th>\n",
       "      <th>width</th>\n",
       "      <th>year</th>\n",
       "    </tr>\n",
       "  </thead>\n",
       "  <tbody>\n",
       "    <tr>\n",
       "      <th>0</th>\n",
       "      <td>ZACNJABB5KPJ92081</td>\n",
       "      <td>35.1 in</td>\n",
       "      <td>NaN</td>\n",
       "      <td>NaN</td>\n",
       "      <td>NaN</td>\n",
       "      <td>SUV / Crossover</td>\n",
       "      <td>NaN</td>\n",
       "      <td>Bayamon</td>\n",
       "      <td>NaN</td>\n",
       "      <td>NaN</td>\n",
       "      <td>...</td>\n",
       "      <td>A</td>\n",
       "      <td>9-Speed Automatic Overdrive</td>\n",
       "      <td>t83804</td>\n",
       "      <td>Latitude FWD</td>\n",
       "      <td>NaN</td>\n",
       "      <td>FWD</td>\n",
       "      <td>Front-Wheel Drive</td>\n",
       "      <td>101.2 in</td>\n",
       "      <td>79.6 in</td>\n",
       "      <td>2019</td>\n",
       "    </tr>\n",
       "    <tr>\n",
       "      <th>1</th>\n",
       "      <td>SALCJ2FX1LH858117</td>\n",
       "      <td>38.1 in</td>\n",
       "      <td>NaN</td>\n",
       "      <td>NaN</td>\n",
       "      <td>NaN</td>\n",
       "      <td>SUV / Crossover</td>\n",
       "      <td>NaN</td>\n",
       "      <td>San Juan</td>\n",
       "      <td>NaN</td>\n",
       "      <td>NaN</td>\n",
       "      <td>...</td>\n",
       "      <td>A</td>\n",
       "      <td>9-Speed Automatic Overdrive</td>\n",
       "      <td>t86759</td>\n",
       "      <td>S AWD</td>\n",
       "      <td>NaN</td>\n",
       "      <td>AWD</td>\n",
       "      <td>All-Wheel Drive</td>\n",
       "      <td>107.9 in</td>\n",
       "      <td>85.6 in</td>\n",
       "      <td>2020</td>\n",
       "    </tr>\n",
       "    <tr>\n",
       "      <th>2</th>\n",
       "      <td>JF1VA2M67G9829723</td>\n",
       "      <td>35.4 in</td>\n",
       "      <td>NaN</td>\n",
       "      <td>NaN</td>\n",
       "      <td>NaN</td>\n",
       "      <td>Sedan</td>\n",
       "      <td>NaN</td>\n",
       "      <td>Guaynabo</td>\n",
       "      <td>17.0</td>\n",
       "      <td>NaN</td>\n",
       "      <td>...</td>\n",
       "      <td>M</td>\n",
       "      <td>6-Speed Manual</td>\n",
       "      <td>t58994</td>\n",
       "      <td>Base</td>\n",
       "      <td>NaN</td>\n",
       "      <td>AWD</td>\n",
       "      <td>All-Wheel Drive</td>\n",
       "      <td>104.3 in</td>\n",
       "      <td>78.9 in</td>\n",
       "      <td>2016</td>\n",
       "    </tr>\n",
       "    <tr>\n",
       "      <th>3</th>\n",
       "      <td>SALRR2RV0L2433391</td>\n",
       "      <td>37.6 in</td>\n",
       "      <td>NaN</td>\n",
       "      <td>NaN</td>\n",
       "      <td>NaN</td>\n",
       "      <td>SUV / Crossover</td>\n",
       "      <td>NaN</td>\n",
       "      <td>San Juan</td>\n",
       "      <td>NaN</td>\n",
       "      <td>NaN</td>\n",
       "      <td>...</td>\n",
       "      <td>A</td>\n",
       "      <td>8-Speed Automatic Overdrive</td>\n",
       "      <td>t86074</td>\n",
       "      <td>V6 HSE AWD</td>\n",
       "      <td>NaN</td>\n",
       "      <td>AWD</td>\n",
       "      <td>All-Wheel Drive</td>\n",
       "      <td>115 in</td>\n",
       "      <td>87.4 in</td>\n",
       "      <td>2020</td>\n",
       "    </tr>\n",
       "    <tr>\n",
       "      <th>4</th>\n",
       "      <td>SALCJ2FXXLH862327</td>\n",
       "      <td>38.1 in</td>\n",
       "      <td>NaN</td>\n",
       "      <td>NaN</td>\n",
       "      <td>NaN</td>\n",
       "      <td>SUV / Crossover</td>\n",
       "      <td>NaN</td>\n",
       "      <td>San Juan</td>\n",
       "      <td>NaN</td>\n",
       "      <td>NaN</td>\n",
       "      <td>...</td>\n",
       "      <td>A</td>\n",
       "      <td>9-Speed Automatic Overdrive</td>\n",
       "      <td>t86759</td>\n",
       "      <td>S AWD</td>\n",
       "      <td>NaN</td>\n",
       "      <td>AWD</td>\n",
       "      <td>All-Wheel Drive</td>\n",
       "      <td>107.9 in</td>\n",
       "      <td>85.6 in</td>\n",
       "      <td>2020</td>\n",
       "    </tr>\n",
       "  </tbody>\n",
       "</table>\n",
       "<p>5 rows × 66 columns</p>\n",
       "</div>"
      ],
      "text/plain": [
       "                 vin back_legroom  bed bed_height bed_length        body_type  \\\n",
       "0  ZACNJABB5KPJ92081      35.1 in  NaN        NaN        NaN  SUV / Crossover   \n",
       "1  SALCJ2FX1LH858117      38.1 in  NaN        NaN        NaN  SUV / Crossover   \n",
       "2  JF1VA2M67G9829723      35.4 in  NaN        NaN        NaN            Sedan   \n",
       "3  SALRR2RV0L2433391      37.6 in  NaN        NaN        NaN  SUV / Crossover   \n",
       "4  SALCJ2FXXLH862327      38.1 in  NaN        NaN        NaN  SUV / Crossover   \n",
       "\n",
       "  cabin      city  city_fuel_economy  combine_fuel_economy  ...  transmission  \\\n",
       "0   NaN   Bayamon                NaN                   NaN  ...             A   \n",
       "1   NaN  San Juan                NaN                   NaN  ...             A   \n",
       "2   NaN  Guaynabo               17.0                   NaN  ...             M   \n",
       "3   NaN  San Juan                NaN                   NaN  ...             A   \n",
       "4   NaN  San Juan                NaN                   NaN  ...             A   \n",
       "\n",
       "          transmission_display  trimId     trim_name  vehicle_damage_category  \\\n",
       "0  9-Speed Automatic Overdrive  t83804  Latitude FWD                      NaN   \n",
       "1  9-Speed Automatic Overdrive  t86759         S AWD                      NaN   \n",
       "2               6-Speed Manual  t58994          Base                      NaN   \n",
       "3  8-Speed Automatic Overdrive  t86074    V6 HSE AWD                      NaN   \n",
       "4  9-Speed Automatic Overdrive  t86759         S AWD                      NaN   \n",
       "\n",
       "  wheel_system wheel_system_display wheelbase    width  year  \n",
       "0          FWD    Front-Wheel Drive  101.2 in  79.6 in  2019  \n",
       "1          AWD      All-Wheel Drive  107.9 in  85.6 in  2020  \n",
       "2          AWD      All-Wheel Drive  104.3 in  78.9 in  2016  \n",
       "3          AWD      All-Wheel Drive    115 in  87.4 in  2020  \n",
       "4          AWD      All-Wheel Drive  107.9 in  85.6 in  2020  \n",
       "\n",
       "[5 rows x 66 columns]"
      ]
     },
     "execution_count": 7,
     "metadata": {},
     "output_type": "execute_result"
    }
   ],
   "source": [
    "import pandas as pd\n",
    "\n",
    "# Load a subset first (faster exploration)\n",
    "used_cars_df = pd.read_csv(\"/home/tclark/Data Science/multimodal-insurance-project/data/used_cars/used_cars_data.csv\", nrows=100000)\n",
    "\n",
    "# Peek\n",
    "print(used_cars_df.shape)\n",
    "used_cars_df.head()\n"
   ]
  },
  {
   "cell_type": "code",
   "execution_count": 8,
   "id": "6939d025",
   "metadata": {},
   "outputs": [
    {
     "data": {
      "application/vnd.microsoft.datawrangler.viewer.v0+json": {
       "columns": [
        {
         "name": "index",
         "rawType": "object",
         "type": "string"
        },
        {
         "name": "0",
         "rawType": "int64",
         "type": "integer"
        }
       ],
       "ref": "0a774584-0b3f-46c0-8c70-7de8e45fcb76",
       "rows": [
        [
         "is_certified",
         "100000"
        ],
        [
         "combine_fuel_economy",
         "100000"
        ],
        [
         "vehicle_damage_category",
         "100000"
        ],
        [
         "bed",
         "99393"
        ],
        [
         "cabin",
         "98333"
        ],
        [
         "is_oemcpo",
         "93890"
        ],
        [
         "bed_length",
         "91877"
        ],
        [
         "bed_height",
         "91877"
        ],
        [
         "is_cpo",
         "91270"
        ],
        [
         "owner_count",
         "45722"
        ],
        [
         "salvage",
         "43075"
        ],
        [
         "theft_title",
         "43075"
        ],
        [
         "frame_damaged",
         "43075"
        ],
        [
         "fleet",
         "43075"
        ],
        [
         "has_accidents",
         "43075"
        ],
        [
         "isCab",
         "43075"
        ],
        [
         "franchise_make",
         "25416"
        ],
        [
         "highway_fuel_economy",
         "16016"
        ],
        [
         "city_fuel_economy",
         "16016"
        ],
        [
         "torque",
         "15350"
        ]
       ],
       "shape": {
        "columns": 1,
        "rows": 20
       }
      },
      "text/plain": [
       "is_certified               100000\n",
       "combine_fuel_economy       100000\n",
       "vehicle_damage_category    100000\n",
       "bed                         99393\n",
       "cabin                       98333\n",
       "is_oemcpo                   93890\n",
       "bed_length                  91877\n",
       "bed_height                  91877\n",
       "is_cpo                      91270\n",
       "owner_count                 45722\n",
       "salvage                     43075\n",
       "theft_title                 43075\n",
       "frame_damaged               43075\n",
       "fleet                       43075\n",
       "has_accidents               43075\n",
       "isCab                       43075\n",
       "franchise_make              25416\n",
       "highway_fuel_economy        16016\n",
       "city_fuel_economy           16016\n",
       "torque                      15350\n",
       "dtype: int64"
      ]
     },
     "execution_count": 8,
     "metadata": {},
     "output_type": "execute_result"
    }
   ],
   "source": [
    "used_cars_df.isnull().sum().sort_values(ascending=False).head(20)\n"
   ]
  },
  {
   "cell_type": "code",
   "execution_count": 9,
   "id": "e1f28198",
   "metadata": {},
   "outputs": [
    {
     "data": {
      "text/plain": [
       "Index(['vin', 'back_legroom', 'bed', 'bed_height', 'bed_length', 'body_type',\n",
       "       'cabin', 'city', 'city_fuel_economy', 'combine_fuel_economy',\n",
       "       'daysonmarket', 'dealer_zip', 'description', 'engine_cylinders',\n",
       "       'engine_displacement', 'engine_type', 'exterior_color', 'fleet',\n",
       "       'frame_damaged', 'franchise_dealer', 'franchise_make', 'front_legroom',\n",
       "       'fuel_tank_volume', 'fuel_type', 'has_accidents', 'height',\n",
       "       'highway_fuel_economy', 'horsepower', 'interior_color', 'isCab',\n",
       "       'is_certified', 'is_cpo', 'is_new', 'is_oemcpo', 'latitude', 'length',\n",
       "       'listed_date', 'listing_color', 'listing_id', 'longitude',\n",
       "       'main_picture_url', 'major_options', 'make_name', 'maximum_seating',\n",
       "       'mileage', 'model_name', 'owner_count', 'power', 'price', 'salvage',\n",
       "       'savings_amount', 'seller_rating', 'sp_id', 'sp_name', 'theft_title',\n",
       "       'torque', 'transmission', 'transmission_display', 'trimId', 'trim_name',\n",
       "       'vehicle_damage_category', 'wheel_system', 'wheel_system_display',\n",
       "       'wheelbase', 'width', 'year'],\n",
       "      dtype='object')"
      ]
     },
     "execution_count": 9,
     "metadata": {},
     "output_type": "execute_result"
    }
   ],
   "source": [
    "used_cars_df.columns"
   ]
  },
  {
   "cell_type": "code",
   "execution_count": 10,
   "id": "7fe431ff",
   "metadata": {},
   "outputs": [
    {
     "data": {
      "text/plain": [
       "(100000, 54)"
      ]
     },
     "execution_count": 10,
     "metadata": {},
     "output_type": "execute_result"
    }
   ],
   "source": [
    "# remove columns: bed, cabin, bed_height, bed_length, franchise_make,\n",
    "# highway_fuel_economy, city_fuel_economy, torque\n",
    "\n",
    "used_cars_df.drop(columns=['bed', 'cabin', 'bed_height', 'bed_length', 'franchise_make',\n",
    "       'highway_fuel_economy', 'city_fuel_economy', 'torque', 'main_picture_url', 'seller_rating',\n",
    "       'daysonmarket', 'dealer_zip', ], inplace=True)\n",
    "\n",
    "used_cars_df.shape\n"
   ]
  },
  {
   "cell_type": "code",
   "execution_count": 11,
   "id": "38d3017b",
   "metadata": {},
   "outputs": [
    {
     "data": {
      "application/vnd.microsoft.datawrangler.viewer.v0+json": {
       "columns": [
        {
         "name": "index",
         "rawType": "int64",
         "type": "integer"
        },
        {
         "name": "vin",
         "rawType": "object",
         "type": "string"
        },
        {
         "name": "back_legroom",
         "rawType": "object",
         "type": "string"
        },
        {
         "name": "body_type",
         "rawType": "object",
         "type": "string"
        },
        {
         "name": "city",
         "rawType": "object",
         "type": "string"
        },
        {
         "name": "combine_fuel_economy",
         "rawType": "float64",
         "type": "float"
        },
        {
         "name": "description",
         "rawType": "object",
         "type": "unknown"
        },
        {
         "name": "engine_cylinders",
         "rawType": "object",
         "type": "string"
        },
        {
         "name": "engine_displacement",
         "rawType": "float64",
         "type": "float"
        },
        {
         "name": "engine_type",
         "rawType": "object",
         "type": "string"
        },
        {
         "name": "exterior_color",
         "rawType": "object",
         "type": "unknown"
        },
        {
         "name": "fleet",
         "rawType": "object",
         "type": "unknown"
        },
        {
         "name": "frame_damaged",
         "rawType": "object",
         "type": "unknown"
        },
        {
         "name": "franchise_dealer",
         "rawType": "bool",
         "type": "boolean"
        },
        {
         "name": "front_legroom",
         "rawType": "object",
         "type": "string"
        },
        {
         "name": "fuel_tank_volume",
         "rawType": "object",
         "type": "string"
        },
        {
         "name": "fuel_type",
         "rawType": "object",
         "type": "string"
        },
        {
         "name": "has_accidents",
         "rawType": "object",
         "type": "unknown"
        },
        {
         "name": "height",
         "rawType": "object",
         "type": "string"
        },
        {
         "name": "horsepower",
         "rawType": "float64",
         "type": "float"
        },
        {
         "name": "interior_color",
         "rawType": "object",
         "type": "unknown"
        },
        {
         "name": "isCab",
         "rawType": "object",
         "type": "unknown"
        },
        {
         "name": "is_certified",
         "rawType": "float64",
         "type": "float"
        },
        {
         "name": "is_cpo",
         "rawType": "object",
         "type": "unknown"
        },
        {
         "name": "is_new",
         "rawType": "bool",
         "type": "boolean"
        },
        {
         "name": "is_oemcpo",
         "rawType": "object",
         "type": "unknown"
        },
        {
         "name": "latitude",
         "rawType": "float64",
         "type": "float"
        },
        {
         "name": "length",
         "rawType": "object",
         "type": "string"
        },
        {
         "name": "listed_date",
         "rawType": "object",
         "type": "string"
        },
        {
         "name": "listing_color",
         "rawType": "object",
         "type": "string"
        },
        {
         "name": "listing_id",
         "rawType": "int64",
         "type": "integer"
        },
        {
         "name": "longitude",
         "rawType": "float64",
         "type": "float"
        },
        {
         "name": "major_options",
         "rawType": "object",
         "type": "unknown"
        },
        {
         "name": "make_name",
         "rawType": "object",
         "type": "string"
        },
        {
         "name": "maximum_seating",
         "rawType": "object",
         "type": "string"
        },
        {
         "name": "mileage",
         "rawType": "float64",
         "type": "float"
        },
        {
         "name": "model_name",
         "rawType": "object",
         "type": "string"
        },
        {
         "name": "owner_count",
         "rawType": "float64",
         "type": "float"
        },
        {
         "name": "power",
         "rawType": "object",
         "type": "string"
        },
        {
         "name": "price",
         "rawType": "float64",
         "type": "float"
        },
        {
         "name": "salvage",
         "rawType": "object",
         "type": "unknown"
        },
        {
         "name": "savings_amount",
         "rawType": "int64",
         "type": "integer"
        },
        {
         "name": "sp_id",
         "rawType": "int64",
         "type": "integer"
        },
        {
         "name": "sp_name",
         "rawType": "object",
         "type": "string"
        },
        {
         "name": "theft_title",
         "rawType": "object",
         "type": "unknown"
        },
        {
         "name": "transmission",
         "rawType": "object",
         "type": "string"
        },
        {
         "name": "transmission_display",
         "rawType": "object",
         "type": "string"
        },
        {
         "name": "trimId",
         "rawType": "object",
         "type": "string"
        },
        {
         "name": "trim_name",
         "rawType": "object",
         "type": "string"
        },
        {
         "name": "vehicle_damage_category",
         "rawType": "float64",
         "type": "float"
        },
        {
         "name": "wheel_system",
         "rawType": "object",
         "type": "string"
        },
        {
         "name": "wheel_system_display",
         "rawType": "object",
         "type": "string"
        },
        {
         "name": "wheelbase",
         "rawType": "object",
         "type": "string"
        },
        {
         "name": "width",
         "rawType": "object",
         "type": "string"
        },
        {
         "name": "year",
         "rawType": "int64",
         "type": "integer"
        }
       ],
       "ref": "5ce74526-a1bb-4d40-8c43-92433bed52e7",
       "rows": [
        [
         "0",
         "ZACNJABB5KPJ92081",
         "35.1 in",
         "SUV / Crossover",
         "Bayamon",
         null,
         "[!@@Additional Info@@!]Engine: 2.4L I4 ZERO EVAP M-AIR,Full Size Temporary Use Spare Tire,Manufacturer's Statement of Origin,Quick Order Package 2XB,Tires: 215/60R17 BSW AS Touring,Transmission: 9-Speed 948TE Automatic,Wheels: 17' x 7.0' Aluminum",
         "I4",
         "1300.0",
         "I4",
         "Solar Yellow",
         null,
         null,
         "True",
         "41.2 in",
         "12.7 gal",
         "Gasoline",
         null,
         "66.5 in",
         "177.0",
         "Black",
         null,
         null,
         null,
         "True",
         null,
         "18.3988",
         "166.6 in",
         "2019-04-06",
         "YELLOW",
         "237132766",
         "-66.1582",
         "['Quick Order Package']",
         "Jeep",
         "5 seats",
         "7.0",
         "Renegade",
         null,
         "177 hp @ 5,750 RPM",
         "23141.0",
         null,
         "0",
         "370599",
         "Flagship Chrysler",
         null,
         "A",
         "9-Speed Automatic Overdrive",
         "t83804",
         "Latitude FWD",
         null,
         "FWD",
         "Front-Wheel Drive",
         "101.2 in",
         "79.6 in",
         "2019"
        ],
        [
         "1",
         "SALCJ2FX1LH858117",
         "38.1 in",
         "SUV / Crossover",
         "San Juan",
         null,
         "[!@@Additional Info@@!]Keyless Entry,Ebony Morzine Headliner,Chrome Wheel Protection Pack,Powered Tailgate,Loadspace Mat,Wheels: 18' Style 5075 Gloss Sparkle Silver,Cargo Carrier,High Speed Emergency Braking,Adaptive Cruise Control w/Stop & Go,Sunshade,12-Way Electric Front Seats,Rubber Mats,Drive Pack,Basic Rear Seat Convenience Pack,Premium Interior Protection,Blind Spot Assist,Cargo Net",
         "I4",
         "2000.0",
         "I4",
         "Narvik Black",
         null,
         null,
         "True",
         "39.1 in",
         "17.7 gal",
         "Gasoline",
         null,
         "68 in",
         "246.0",
         "Black (Ebony)",
         null,
         null,
         null,
         "True",
         null,
         "18.4439",
         "181 in",
         "2020-02-15",
         "BLACK",
         "265946296",
         "-66.0785",
         "['Adaptive Cruise Control']",
         "Land Rover",
         "7 seats",
         "8.0",
         "Discovery Sport",
         null,
         "246 hp @ 5,500 RPM",
         "46500.0",
         null,
         "0",
         "389227",
         "Land Rover San Juan",
         null,
         "A",
         "9-Speed Automatic Overdrive",
         "t86759",
         "S AWD",
         null,
         "AWD",
         "All-Wheel Drive",
         "107.9 in",
         "85.6 in",
         "2020"
        ],
        [
         "2",
         "JF1VA2M67G9829723",
         "35.4 in",
         "Sedan",
         "Guaynabo",
         null,
         null,
         "H4",
         "2500.0",
         "H4",
         null,
         "False",
         "False",
         "True",
         "43.3 in",
         "15.9 gal",
         "Gasoline",
         "False",
         "58.1 in",
         "305.0",
         null,
         "False",
         null,
         null,
         "False",
         null,
         "18.3467",
         "180.9 in",
         "2017-04-25",
         "UNKNOWN",
         "173473508",
         "-66.1098",
         "['Alloy Wheels', 'Bluetooth', 'Backup Camera', 'Heated Seats']",
         "Subaru",
         "5 seats",
         null,
         "WRX STI",
         "3.0",
         "305 hp @ 6,000 RPM",
         "46995.0",
         "False",
         "0",
         "370467",
         "FIAT de San Juan",
         "False",
         "M",
         "6-Speed Manual",
         "t58994",
         "Base",
         null,
         "AWD",
         "All-Wheel Drive",
         "104.3 in",
         "78.9 in",
         "2016"
        ],
        [
         "3",
         "SALRR2RV0L2433391",
         "37.6 in",
         "SUV / Crossover",
         "San Juan",
         null,
         "[!@@Additional Info@@!]Fog Lights,7 Seat Package,Wheels: 21' 9 Spoke,GVWR: 6,900 lbs,Full Length Black Roof Rails,Twin-Speed Transfer Case,Cargo Carrier,Car Care Kit,Rubber Mat Set,Electronic Air Suspension,Prem Interior Protection/Storage Pack,Ebony Headlining,Wheel Protection Pack Chrome Locks,Cargo Mat,Tire Pressure Gauge,Windshield Sunshade,Basic Rear Seat Convenience Pack,Chrome Wheel Locks,Front Center Console Cooler Compartment,Tires: 21',Cabin Air Ionisation",
         "V6",
         "3000.0",
         "V6",
         "Eiger Gray",
         null,
         null,
         "True",
         "39 in",
         "23.5 gal",
         "Gasoline",
         null,
         "73 in",
         "340.0",
         "Gray (Ebony/Ebony/Ebony)",
         null,
         null,
         null,
         "True",
         null,
         "18.4439",
         "195.1 in",
         "2020-02-26",
         "GRAY",
         "266911050",
         "-66.0785",
         null,
         "Land Rover",
         "7 seats",
         "11.0",
         "Discovery",
         null,
         "340 hp @ 6,500 RPM",
         "67430.0",
         null,
         "0",
         "389227",
         "Land Rover San Juan",
         null,
         "A",
         "8-Speed Automatic Overdrive",
         "t86074",
         "V6 HSE AWD",
         null,
         "AWD",
         "All-Wheel Drive",
         "115 in",
         "87.4 in",
         "2020"
        ],
        [
         "4",
         "SALCJ2FXXLH862327",
         "38.1 in",
         "SUV / Crossover",
         "San Juan",
         null,
         "[!@@Additional Info@@!]Keyless Entry,Ebony Morzine Headliner,Chrome Wheel Protection Pack,ClearSight Rearview Mirror,Loadspace Mat,Wheels: 18' Style 5075 Gloss Sparkle Silver,Head-Up Display,Cargo Carrier,High Speed Emergency Braking,Adaptive Cruise Control w/Stop & Go,Sunshade,Technology Pack,12-Way Electric Front Seats,Rubber Mats,Drive Pack,Basic Rear Seat Convenience Pack,Fixed Panoramic Roof,Premium Interior Protection,Interactive Driver Display,Blind Spot Assist,Cargo Net,Wireless Device Charging",
         "I4",
         "2000.0",
         "I4",
         "Narvik Black",
         null,
         null,
         "True",
         "39.1 in",
         "17.7 gal",
         "Gasoline",
         null,
         "68 in",
         "246.0",
         "Black (Ebony)",
         null,
         null,
         null,
         "True",
         null,
         "18.4439",
         "181 in",
         "2020-04-25",
         "BLACK",
         "270957414",
         "-66.0785",
         "['Adaptive Cruise Control']",
         "Land Rover",
         "7 seats",
         "7.0",
         "Discovery Sport",
         null,
         "246 hp @ 5,500 RPM",
         "48880.0",
         null,
         "0",
         "389227",
         "Land Rover San Juan",
         null,
         "A",
         "9-Speed Automatic Overdrive",
         "t86759",
         "S AWD",
         null,
         "AWD",
         "All-Wheel Drive",
         "107.9 in",
         "85.6 in",
         "2020"
        ]
       ],
       "shape": {
        "columns": 54,
        "rows": 5
       }
      },
      "text/html": [
       "<div>\n",
       "<style scoped>\n",
       "    .dataframe tbody tr th:only-of-type {\n",
       "        vertical-align: middle;\n",
       "    }\n",
       "\n",
       "    .dataframe tbody tr th {\n",
       "        vertical-align: top;\n",
       "    }\n",
       "\n",
       "    .dataframe thead th {\n",
       "        text-align: right;\n",
       "    }\n",
       "</style>\n",
       "<table border=\"1\" class=\"dataframe\">\n",
       "  <thead>\n",
       "    <tr style=\"text-align: right;\">\n",
       "      <th></th>\n",
       "      <th>vin</th>\n",
       "      <th>back_legroom</th>\n",
       "      <th>body_type</th>\n",
       "      <th>city</th>\n",
       "      <th>combine_fuel_economy</th>\n",
       "      <th>description</th>\n",
       "      <th>engine_cylinders</th>\n",
       "      <th>engine_displacement</th>\n",
       "      <th>engine_type</th>\n",
       "      <th>exterior_color</th>\n",
       "      <th>...</th>\n",
       "      <th>transmission</th>\n",
       "      <th>transmission_display</th>\n",
       "      <th>trimId</th>\n",
       "      <th>trim_name</th>\n",
       "      <th>vehicle_damage_category</th>\n",
       "      <th>wheel_system</th>\n",
       "      <th>wheel_system_display</th>\n",
       "      <th>wheelbase</th>\n",
       "      <th>width</th>\n",
       "      <th>year</th>\n",
       "    </tr>\n",
       "  </thead>\n",
       "  <tbody>\n",
       "    <tr>\n",
       "      <th>0</th>\n",
       "      <td>ZACNJABB5KPJ92081</td>\n",
       "      <td>35.1 in</td>\n",
       "      <td>SUV / Crossover</td>\n",
       "      <td>Bayamon</td>\n",
       "      <td>NaN</td>\n",
       "      <td>[!@@Additional Info@@!]Engine: 2.4L I4 ZERO EV...</td>\n",
       "      <td>I4</td>\n",
       "      <td>1300.0</td>\n",
       "      <td>I4</td>\n",
       "      <td>Solar Yellow</td>\n",
       "      <td>...</td>\n",
       "      <td>A</td>\n",
       "      <td>9-Speed Automatic Overdrive</td>\n",
       "      <td>t83804</td>\n",
       "      <td>Latitude FWD</td>\n",
       "      <td>NaN</td>\n",
       "      <td>FWD</td>\n",
       "      <td>Front-Wheel Drive</td>\n",
       "      <td>101.2 in</td>\n",
       "      <td>79.6 in</td>\n",
       "      <td>2019</td>\n",
       "    </tr>\n",
       "    <tr>\n",
       "      <th>1</th>\n",
       "      <td>SALCJ2FX1LH858117</td>\n",
       "      <td>38.1 in</td>\n",
       "      <td>SUV / Crossover</td>\n",
       "      <td>San Juan</td>\n",
       "      <td>NaN</td>\n",
       "      <td>[!@@Additional Info@@!]Keyless Entry,Ebony Mor...</td>\n",
       "      <td>I4</td>\n",
       "      <td>2000.0</td>\n",
       "      <td>I4</td>\n",
       "      <td>Narvik Black</td>\n",
       "      <td>...</td>\n",
       "      <td>A</td>\n",
       "      <td>9-Speed Automatic Overdrive</td>\n",
       "      <td>t86759</td>\n",
       "      <td>S AWD</td>\n",
       "      <td>NaN</td>\n",
       "      <td>AWD</td>\n",
       "      <td>All-Wheel Drive</td>\n",
       "      <td>107.9 in</td>\n",
       "      <td>85.6 in</td>\n",
       "      <td>2020</td>\n",
       "    </tr>\n",
       "    <tr>\n",
       "      <th>2</th>\n",
       "      <td>JF1VA2M67G9829723</td>\n",
       "      <td>35.4 in</td>\n",
       "      <td>Sedan</td>\n",
       "      <td>Guaynabo</td>\n",
       "      <td>NaN</td>\n",
       "      <td>NaN</td>\n",
       "      <td>H4</td>\n",
       "      <td>2500.0</td>\n",
       "      <td>H4</td>\n",
       "      <td>NaN</td>\n",
       "      <td>...</td>\n",
       "      <td>M</td>\n",
       "      <td>6-Speed Manual</td>\n",
       "      <td>t58994</td>\n",
       "      <td>Base</td>\n",
       "      <td>NaN</td>\n",
       "      <td>AWD</td>\n",
       "      <td>All-Wheel Drive</td>\n",
       "      <td>104.3 in</td>\n",
       "      <td>78.9 in</td>\n",
       "      <td>2016</td>\n",
       "    </tr>\n",
       "    <tr>\n",
       "      <th>3</th>\n",
       "      <td>SALRR2RV0L2433391</td>\n",
       "      <td>37.6 in</td>\n",
       "      <td>SUV / Crossover</td>\n",
       "      <td>San Juan</td>\n",
       "      <td>NaN</td>\n",
       "      <td>[!@@Additional Info@@!]Fog Lights,7 Seat Packa...</td>\n",
       "      <td>V6</td>\n",
       "      <td>3000.0</td>\n",
       "      <td>V6</td>\n",
       "      <td>Eiger Gray</td>\n",
       "      <td>...</td>\n",
       "      <td>A</td>\n",
       "      <td>8-Speed Automatic Overdrive</td>\n",
       "      <td>t86074</td>\n",
       "      <td>V6 HSE AWD</td>\n",
       "      <td>NaN</td>\n",
       "      <td>AWD</td>\n",
       "      <td>All-Wheel Drive</td>\n",
       "      <td>115 in</td>\n",
       "      <td>87.4 in</td>\n",
       "      <td>2020</td>\n",
       "    </tr>\n",
       "    <tr>\n",
       "      <th>4</th>\n",
       "      <td>SALCJ2FXXLH862327</td>\n",
       "      <td>38.1 in</td>\n",
       "      <td>SUV / Crossover</td>\n",
       "      <td>San Juan</td>\n",
       "      <td>NaN</td>\n",
       "      <td>[!@@Additional Info@@!]Keyless Entry,Ebony Mor...</td>\n",
       "      <td>I4</td>\n",
       "      <td>2000.0</td>\n",
       "      <td>I4</td>\n",
       "      <td>Narvik Black</td>\n",
       "      <td>...</td>\n",
       "      <td>A</td>\n",
       "      <td>9-Speed Automatic Overdrive</td>\n",
       "      <td>t86759</td>\n",
       "      <td>S AWD</td>\n",
       "      <td>NaN</td>\n",
       "      <td>AWD</td>\n",
       "      <td>All-Wheel Drive</td>\n",
       "      <td>107.9 in</td>\n",
       "      <td>85.6 in</td>\n",
       "      <td>2020</td>\n",
       "    </tr>\n",
       "  </tbody>\n",
       "</table>\n",
       "<p>5 rows × 54 columns</p>\n",
       "</div>"
      ],
      "text/plain": [
       "                 vin back_legroom        body_type      city  \\\n",
       "0  ZACNJABB5KPJ92081      35.1 in  SUV / Crossover   Bayamon   \n",
       "1  SALCJ2FX1LH858117      38.1 in  SUV / Crossover  San Juan   \n",
       "2  JF1VA2M67G9829723      35.4 in            Sedan  Guaynabo   \n",
       "3  SALRR2RV0L2433391      37.6 in  SUV / Crossover  San Juan   \n",
       "4  SALCJ2FXXLH862327      38.1 in  SUV / Crossover  San Juan   \n",
       "\n",
       "   combine_fuel_economy                                        description  \\\n",
       "0                   NaN  [!@@Additional Info@@!]Engine: 2.4L I4 ZERO EV...   \n",
       "1                   NaN  [!@@Additional Info@@!]Keyless Entry,Ebony Mor...   \n",
       "2                   NaN                                                NaN   \n",
       "3                   NaN  [!@@Additional Info@@!]Fog Lights,7 Seat Packa...   \n",
       "4                   NaN  [!@@Additional Info@@!]Keyless Entry,Ebony Mor...   \n",
       "\n",
       "  engine_cylinders  engine_displacement engine_type exterior_color  ...  \\\n",
       "0               I4               1300.0          I4   Solar Yellow  ...   \n",
       "1               I4               2000.0          I4   Narvik Black  ...   \n",
       "2               H4               2500.0          H4            NaN  ...   \n",
       "3               V6               3000.0          V6     Eiger Gray  ...   \n",
       "4               I4               2000.0          I4   Narvik Black  ...   \n",
       "\n",
       "  transmission         transmission_display  trimId     trim_name  \\\n",
       "0            A  9-Speed Automatic Overdrive  t83804  Latitude FWD   \n",
       "1            A  9-Speed Automatic Overdrive  t86759         S AWD   \n",
       "2            M               6-Speed Manual  t58994          Base   \n",
       "3            A  8-Speed Automatic Overdrive  t86074    V6 HSE AWD   \n",
       "4            A  9-Speed Automatic Overdrive  t86759         S AWD   \n",
       "\n",
       "  vehicle_damage_category wheel_system wheel_system_display wheelbase  \\\n",
       "0                     NaN          FWD    Front-Wheel Drive  101.2 in   \n",
       "1                     NaN          AWD      All-Wheel Drive  107.9 in   \n",
       "2                     NaN          AWD      All-Wheel Drive  104.3 in   \n",
       "3                     NaN          AWD      All-Wheel Drive    115 in   \n",
       "4                     NaN          AWD      All-Wheel Drive  107.9 in   \n",
       "\n",
       "     width  year  \n",
       "0  79.6 in  2019  \n",
       "1  85.6 in  2020  \n",
       "2  78.9 in  2016  \n",
       "3  87.4 in  2020  \n",
       "4  85.6 in  2020  \n",
       "\n",
       "[5 rows x 54 columns]"
      ]
     },
     "execution_count": 11,
     "metadata": {},
     "output_type": "execute_result"
    }
   ],
   "source": [
    "used_cars_df.head()"
   ]
  }
 ],
 "metadata": {
  "kernelspec": {
   "display_name": ".venv",
   "language": "python",
   "name": "python3"
  },
  "language_info": {
   "codemirror_mode": {
    "name": "ipython",
    "version": 3
   },
   "file_extension": ".py",
   "mimetype": "text/x-python",
   "name": "python",
   "nbconvert_exporter": "python",
   "pygments_lexer": "ipython3",
   "version": "3.12.2"
  }
 },
 "nbformat": 4,
 "nbformat_minor": 5
}
